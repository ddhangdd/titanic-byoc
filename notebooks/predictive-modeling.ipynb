{
 "cells": [
  {
   "cell_type": "markdown",
   "id": "eb5a4a9e",
   "metadata": {},
   "source": [
    "# Titanic - Predictive Modeling!\n",
    "In our last session, we focused on performing feature engineering on the raw Titanic dataset. At the end of that session, we exported our cleaned dataset into another CSV file. We are now ready to start our predictive modeling process!"
   ]
  },
  {
   "cell_type": "markdown",
   "id": "64a0a1f5",
   "metadata": {},
   "source": [
    "## Notebook Setup"
   ]
  },
  {
   "cell_type": "code",
   "execution_count": 1,
   "id": "3d9236d0",
   "metadata": {},
   "outputs": [],
   "source": [
    "# Importing the necessary Python libraries\n",
    "import cloudpickle\n",
    "import pandas as pd\n",
    "from category_encoders.one_hot import OneHotEncoder\n",
    "from sklearn.model_selection import train_test_split, GridSearchCV\n",
    "from sklearn.ensemble import RandomForestClassifier\n",
    "from sklearn.metrics import roc_auc_score, accuracy_score, confusion_matrix\n",
    "from sklearn.preprocessing import FunctionTransformer\n",
    "from sklearn.pipeline import Pipeline\n",
    "from sklearn.compose import ColumnTransformer\n",
    "\n",
    "import warnings\n",
    "warnings.filterwarnings('ignore')"
   ]
  },
  {
   "cell_type": "code",
   "execution_count": 5,
   "id": "f3ac1004",
   "metadata": {},
   "outputs": [],
   "source": [
    "# Loading in the cleaned datasets\n",
    "X = pd.read_csv('../data/clean/X.csv')\n",
    "y = pd.read_csv('../data/clean/y.csv')"
   ]
  },
  {
   "cell_type": "code",
   "execution_count": 6,
   "id": "2408bab3",
   "metadata": {},
   "outputs": [
    {
     "data": {
      "application/vnd.microsoft.datawrangler.viewer.v0+json": {
       "columns": [
        {
         "name": "index",
         "rawType": "int64",
         "type": "integer"
        },
        {
         "name": "Pclass",
         "rawType": "int64",
         "type": "integer"
        },
        {
         "name": "SibSp",
         "rawType": "int64",
         "type": "integer"
        },
        {
         "name": "Parch",
         "rawType": "int64",
         "type": "integer"
        },
        {
         "name": "Fare",
         "rawType": "float64",
         "type": "float"
        },
        {
         "name": "Sex_male",
         "rawType": "int64",
         "type": "integer"
        },
        {
         "name": "Sex_female",
         "rawType": "int64",
         "type": "integer"
        },
        {
         "name": "Embarked_S",
         "rawType": "int64",
         "type": "integer"
        },
        {
         "name": "Embarked_C",
         "rawType": "int64",
         "type": "integer"
        },
        {
         "name": "Embarked_Q",
         "rawType": "int64",
         "type": "integer"
        },
        {
         "name": "Embarked_nan",
         "rawType": "int64",
         "type": "integer"
        },
        {
         "name": "Age_child",
         "rawType": "int64",
         "type": "integer"
        },
        {
         "name": "Age_teen",
         "rawType": "int64",
         "type": "integer"
        },
        {
         "name": "Age_young_adult",
         "rawType": "int64",
         "type": "integer"
        },
        {
         "name": "Age_adult",
         "rawType": "int64",
         "type": "integer"
        },
        {
         "name": "Age_elder",
         "rawType": "int64",
         "type": "integer"
        }
       ],
       "ref": "a26aed81-3a40-41b2-8a24-4ff4e19cb512",
       "rows": [
        [
         "0",
         "3",
         "1",
         "0",
         "7.25",
         "1",
         "0",
         "1",
         "0",
         "0",
         "0",
         "0",
         "0",
         "1",
         "0",
         "0"
        ],
        [
         "1",
         "1",
         "1",
         "0",
         "71.2833",
         "0",
         "1",
         "0",
         "1",
         "0",
         "0",
         "0",
         "0",
         "0",
         "1",
         "0"
        ],
        [
         "2",
         "3",
         "0",
         "0",
         "7.925",
         "0",
         "1",
         "1",
         "0",
         "0",
         "0",
         "0",
         "0",
         "1",
         "0",
         "0"
        ],
        [
         "3",
         "1",
         "1",
         "0",
         "53.1",
         "0",
         "1",
         "1",
         "0",
         "0",
         "0",
         "0",
         "0",
         "0",
         "1",
         "0"
        ],
        [
         "4",
         "3",
         "0",
         "0",
         "8.05",
         "1",
         "0",
         "1",
         "0",
         "0",
         "0",
         "0",
         "0",
         "0",
         "1",
         "0"
        ]
       ],
       "shape": {
        "columns": 15,
        "rows": 5
       }
      },
      "text/html": [
       "<div>\n",
       "<style scoped>\n",
       "    .dataframe tbody tr th:only-of-type {\n",
       "        vertical-align: middle;\n",
       "    }\n",
       "\n",
       "    .dataframe tbody tr th {\n",
       "        vertical-align: top;\n",
       "    }\n",
       "\n",
       "    .dataframe thead th {\n",
       "        text-align: right;\n",
       "    }\n",
       "</style>\n",
       "<table border=\"1\" class=\"dataframe\">\n",
       "  <thead>\n",
       "    <tr style=\"text-align: right;\">\n",
       "      <th></th>\n",
       "      <th>Pclass</th>\n",
       "      <th>SibSp</th>\n",
       "      <th>Parch</th>\n",
       "      <th>Fare</th>\n",
       "      <th>Sex_male</th>\n",
       "      <th>Sex_female</th>\n",
       "      <th>Embarked_S</th>\n",
       "      <th>Embarked_C</th>\n",
       "      <th>Embarked_Q</th>\n",
       "      <th>Embarked_nan</th>\n",
       "      <th>Age_child</th>\n",
       "      <th>Age_teen</th>\n",
       "      <th>Age_young_adult</th>\n",
       "      <th>Age_adult</th>\n",
       "      <th>Age_elder</th>\n",
       "    </tr>\n",
       "  </thead>\n",
       "  <tbody>\n",
       "    <tr>\n",
       "      <th>0</th>\n",
       "      <td>3</td>\n",
       "      <td>1</td>\n",
       "      <td>0</td>\n",
       "      <td>7.2500</td>\n",
       "      <td>1</td>\n",
       "      <td>0</td>\n",
       "      <td>1</td>\n",
       "      <td>0</td>\n",
       "      <td>0</td>\n",
       "      <td>0</td>\n",
       "      <td>0</td>\n",
       "      <td>0</td>\n",
       "      <td>1</td>\n",
       "      <td>0</td>\n",
       "      <td>0</td>\n",
       "    </tr>\n",
       "    <tr>\n",
       "      <th>1</th>\n",
       "      <td>1</td>\n",
       "      <td>1</td>\n",
       "      <td>0</td>\n",
       "      <td>71.2833</td>\n",
       "      <td>0</td>\n",
       "      <td>1</td>\n",
       "      <td>0</td>\n",
       "      <td>1</td>\n",
       "      <td>0</td>\n",
       "      <td>0</td>\n",
       "      <td>0</td>\n",
       "      <td>0</td>\n",
       "      <td>0</td>\n",
       "      <td>1</td>\n",
       "      <td>0</td>\n",
       "    </tr>\n",
       "    <tr>\n",
       "      <th>2</th>\n",
       "      <td>3</td>\n",
       "      <td>0</td>\n",
       "      <td>0</td>\n",
       "      <td>7.9250</td>\n",
       "      <td>0</td>\n",
       "      <td>1</td>\n",
       "      <td>1</td>\n",
       "      <td>0</td>\n",
       "      <td>0</td>\n",
       "      <td>0</td>\n",
       "      <td>0</td>\n",
       "      <td>0</td>\n",
       "      <td>1</td>\n",
       "      <td>0</td>\n",
       "      <td>0</td>\n",
       "    </tr>\n",
       "    <tr>\n",
       "      <th>3</th>\n",
       "      <td>1</td>\n",
       "      <td>1</td>\n",
       "      <td>0</td>\n",
       "      <td>53.1000</td>\n",
       "      <td>0</td>\n",
       "      <td>1</td>\n",
       "      <td>1</td>\n",
       "      <td>0</td>\n",
       "      <td>0</td>\n",
       "      <td>0</td>\n",
       "      <td>0</td>\n",
       "      <td>0</td>\n",
       "      <td>0</td>\n",
       "      <td>1</td>\n",
       "      <td>0</td>\n",
       "    </tr>\n",
       "    <tr>\n",
       "      <th>4</th>\n",
       "      <td>3</td>\n",
       "      <td>0</td>\n",
       "      <td>0</td>\n",
       "      <td>8.0500</td>\n",
       "      <td>1</td>\n",
       "      <td>0</td>\n",
       "      <td>1</td>\n",
       "      <td>0</td>\n",
       "      <td>0</td>\n",
       "      <td>0</td>\n",
       "      <td>0</td>\n",
       "      <td>0</td>\n",
       "      <td>0</td>\n",
       "      <td>1</td>\n",
       "      <td>0</td>\n",
       "    </tr>\n",
       "  </tbody>\n",
       "</table>\n",
       "</div>"
      ],
      "text/plain": [
       "   Pclass  SibSp  Parch     Fare  Sex_male  Sex_female  Embarked_S  \\\n",
       "0       3      1      0   7.2500         1           0           1   \n",
       "1       1      1      0  71.2833         0           1           0   \n",
       "2       3      0      0   7.9250         0           1           1   \n",
       "3       1      1      0  53.1000         0           1           1   \n",
       "4       3      0      0   8.0500         1           0           1   \n",
       "\n",
       "   Embarked_C  Embarked_Q  Embarked_nan  Age_child  Age_teen  Age_young_adult  \\\n",
       "0           0           0             0          0         0                1   \n",
       "1           1           0             0          0         0                0   \n",
       "2           0           0             0          0         0                1   \n",
       "3           0           0             0          0         0                0   \n",
       "4           0           0             0          0         0                0   \n",
       "\n",
       "   Age_adult  Age_elder  \n",
       "0          0          0  \n",
       "1          1          0  \n",
       "2          0          0  \n",
       "3          1          0  \n",
       "4          1          0  "
      ]
     },
     "execution_count": 6,
     "metadata": {},
     "output_type": "execute_result"
    }
   ],
   "source": [
    "# Viewing the first few rows of the X dataset\n",
    "X.head()"
   ]
  },
  {
   "cell_type": "code",
   "execution_count": 7,
   "id": "9bf99aa5",
   "metadata": {},
   "outputs": [
    {
     "data": {
      "application/vnd.microsoft.datawrangler.viewer.v0+json": {
       "columns": [
        {
         "name": "index",
         "rawType": "int64",
         "type": "integer"
        },
        {
         "name": "Survived",
         "rawType": "int64",
         "type": "integer"
        }
       ],
       "ref": "b7ab665a-60ab-4ff3-9f79-088a6626fd57",
       "rows": [
        [
         "0",
         "0"
        ],
        [
         "1",
         "1"
        ],
        [
         "2",
         "1"
        ],
        [
         "3",
         "1"
        ],
        [
         "4",
         "0"
        ]
       ],
       "shape": {
        "columns": 1,
        "rows": 5
       }
      },
      "text/html": [
       "<div>\n",
       "<style scoped>\n",
       "    .dataframe tbody tr th:only-of-type {\n",
       "        vertical-align: middle;\n",
       "    }\n",
       "\n",
       "    .dataframe tbody tr th {\n",
       "        vertical-align: top;\n",
       "    }\n",
       "\n",
       "    .dataframe thead th {\n",
       "        text-align: right;\n",
       "    }\n",
       "</style>\n",
       "<table border=\"1\" class=\"dataframe\">\n",
       "  <thead>\n",
       "    <tr style=\"text-align: right;\">\n",
       "      <th></th>\n",
       "      <th>Survived</th>\n",
       "    </tr>\n",
       "  </thead>\n",
       "  <tbody>\n",
       "    <tr>\n",
       "      <th>0</th>\n",
       "      <td>0</td>\n",
       "    </tr>\n",
       "    <tr>\n",
       "      <th>1</th>\n",
       "      <td>1</td>\n",
       "    </tr>\n",
       "    <tr>\n",
       "      <th>2</th>\n",
       "      <td>1</td>\n",
       "    </tr>\n",
       "    <tr>\n",
       "      <th>3</th>\n",
       "      <td>1</td>\n",
       "    </tr>\n",
       "    <tr>\n",
       "      <th>4</th>\n",
       "      <td>0</td>\n",
       "    </tr>\n",
       "  </tbody>\n",
       "</table>\n",
       "</div>"
      ],
      "text/plain": [
       "   Survived\n",
       "0         0\n",
       "1         1\n",
       "2         1\n",
       "3         1\n",
       "4         0"
      ]
     },
     "execution_count": 7,
     "metadata": {},
     "output_type": "execute_result"
    }
   ],
   "source": [
    "# Viewing the first few rows of the y dataset\n",
    "y.head()"
   ]
  },
  {
   "cell_type": "markdown",
   "id": "81eff3e1",
   "metadata": {},
   "source": [
    "## Data Separation\n",
    "When working with a training dataset, it is a good idea to hold out a portion of the data so that we have something we can validate the model against. In the cell below, we will use Scikit-Learn's `train_test_split` functionality to split the data into respective training and validation sets."
   ]
  },
  {
   "cell_type": "code",
   "execution_count": 8,
   "id": "2206a841",
   "metadata": {},
   "outputs": [],
   "source": [
    "# Splitting the datasets between training and validation\n",
    "X_train, X_val, y_train, y_val = train_test_split(X, y, test_size = 0.2, random_state = 42)"
   ]
  },
  {
   "cell_type": "code",
   "execution_count": 9,
   "id": "ea94e55b",
   "metadata": {},
   "outputs": [
    {
     "data": {
      "application/vnd.microsoft.datawrangler.viewer.v0+json": {
       "columns": [
        {
         "name": "index",
         "rawType": "int64",
         "type": "integer"
        },
        {
         "name": "Pclass",
         "rawType": "int64",
         "type": "integer"
        },
        {
         "name": "SibSp",
         "rawType": "int64",
         "type": "integer"
        },
        {
         "name": "Parch",
         "rawType": "int64",
         "type": "integer"
        },
        {
         "name": "Fare",
         "rawType": "float64",
         "type": "float"
        },
        {
         "name": "Sex_male",
         "rawType": "int64",
         "type": "integer"
        },
        {
         "name": "Sex_female",
         "rawType": "int64",
         "type": "integer"
        },
        {
         "name": "Embarked_S",
         "rawType": "int64",
         "type": "integer"
        },
        {
         "name": "Embarked_C",
         "rawType": "int64",
         "type": "integer"
        },
        {
         "name": "Embarked_Q",
         "rawType": "int64",
         "type": "integer"
        },
        {
         "name": "Embarked_nan",
         "rawType": "int64",
         "type": "integer"
        },
        {
         "name": "Age_child",
         "rawType": "int64",
         "type": "integer"
        },
        {
         "name": "Age_teen",
         "rawType": "int64",
         "type": "integer"
        },
        {
         "name": "Age_young_adult",
         "rawType": "int64",
         "type": "integer"
        },
        {
         "name": "Age_adult",
         "rawType": "int64",
         "type": "integer"
        },
        {
         "name": "Age_elder",
         "rawType": "int64",
         "type": "integer"
        }
       ],
       "ref": "c91425c3-09d5-473f-8c4c-92e704f20674",
       "rows": [
        [
         "331",
         "1",
         "0",
         "0",
         "28.5",
         "1",
         "0",
         "1",
         "0",
         "0",
         "0",
         "0",
         "0",
         "0",
         "1",
         "0"
        ],
        [
         "733",
         "2",
         "0",
         "0",
         "13.0",
         "1",
         "0",
         "1",
         "0",
         "0",
         "0",
         "0",
         "0",
         "1",
         "0",
         "0"
        ],
        [
         "382",
         "3",
         "0",
         "0",
         "7.925",
         "1",
         "0",
         "1",
         "0",
         "0",
         "0",
         "0",
         "0",
         "0",
         "1",
         "0"
        ],
        [
         "704",
         "3",
         "1",
         "0",
         "7.8542",
         "1",
         "0",
         "1",
         "0",
         "0",
         "0",
         "0",
         "0",
         "1",
         "0",
         "0"
        ],
        [
         "813",
         "3",
         "4",
         "2",
         "31.275",
         "0",
         "1",
         "1",
         "0",
         "0",
         "0",
         "1",
         "0",
         "0",
         "0",
         "0"
        ]
       ],
       "shape": {
        "columns": 15,
        "rows": 5
       }
      },
      "text/html": [
       "<div>\n",
       "<style scoped>\n",
       "    .dataframe tbody tr th:only-of-type {\n",
       "        vertical-align: middle;\n",
       "    }\n",
       "\n",
       "    .dataframe tbody tr th {\n",
       "        vertical-align: top;\n",
       "    }\n",
       "\n",
       "    .dataframe thead th {\n",
       "        text-align: right;\n",
       "    }\n",
       "</style>\n",
       "<table border=\"1\" class=\"dataframe\">\n",
       "  <thead>\n",
       "    <tr style=\"text-align: right;\">\n",
       "      <th></th>\n",
       "      <th>Pclass</th>\n",
       "      <th>SibSp</th>\n",
       "      <th>Parch</th>\n",
       "      <th>Fare</th>\n",
       "      <th>Sex_male</th>\n",
       "      <th>Sex_female</th>\n",
       "      <th>Embarked_S</th>\n",
       "      <th>Embarked_C</th>\n",
       "      <th>Embarked_Q</th>\n",
       "      <th>Embarked_nan</th>\n",
       "      <th>Age_child</th>\n",
       "      <th>Age_teen</th>\n",
       "      <th>Age_young_adult</th>\n",
       "      <th>Age_adult</th>\n",
       "      <th>Age_elder</th>\n",
       "    </tr>\n",
       "  </thead>\n",
       "  <tbody>\n",
       "    <tr>\n",
       "      <th>331</th>\n",
       "      <td>1</td>\n",
       "      <td>0</td>\n",
       "      <td>0</td>\n",
       "      <td>28.5000</td>\n",
       "      <td>1</td>\n",
       "      <td>0</td>\n",
       "      <td>1</td>\n",
       "      <td>0</td>\n",
       "      <td>0</td>\n",
       "      <td>0</td>\n",
       "      <td>0</td>\n",
       "      <td>0</td>\n",
       "      <td>0</td>\n",
       "      <td>1</td>\n",
       "      <td>0</td>\n",
       "    </tr>\n",
       "    <tr>\n",
       "      <th>733</th>\n",
       "      <td>2</td>\n",
       "      <td>0</td>\n",
       "      <td>0</td>\n",
       "      <td>13.0000</td>\n",
       "      <td>1</td>\n",
       "      <td>0</td>\n",
       "      <td>1</td>\n",
       "      <td>0</td>\n",
       "      <td>0</td>\n",
       "      <td>0</td>\n",
       "      <td>0</td>\n",
       "      <td>0</td>\n",
       "      <td>1</td>\n",
       "      <td>0</td>\n",
       "      <td>0</td>\n",
       "    </tr>\n",
       "    <tr>\n",
       "      <th>382</th>\n",
       "      <td>3</td>\n",
       "      <td>0</td>\n",
       "      <td>0</td>\n",
       "      <td>7.9250</td>\n",
       "      <td>1</td>\n",
       "      <td>0</td>\n",
       "      <td>1</td>\n",
       "      <td>0</td>\n",
       "      <td>0</td>\n",
       "      <td>0</td>\n",
       "      <td>0</td>\n",
       "      <td>0</td>\n",
       "      <td>0</td>\n",
       "      <td>1</td>\n",
       "      <td>0</td>\n",
       "    </tr>\n",
       "    <tr>\n",
       "      <th>704</th>\n",
       "      <td>3</td>\n",
       "      <td>1</td>\n",
       "      <td>0</td>\n",
       "      <td>7.8542</td>\n",
       "      <td>1</td>\n",
       "      <td>0</td>\n",
       "      <td>1</td>\n",
       "      <td>0</td>\n",
       "      <td>0</td>\n",
       "      <td>0</td>\n",
       "      <td>0</td>\n",
       "      <td>0</td>\n",
       "      <td>1</td>\n",
       "      <td>0</td>\n",
       "      <td>0</td>\n",
       "    </tr>\n",
       "    <tr>\n",
       "      <th>813</th>\n",
       "      <td>3</td>\n",
       "      <td>4</td>\n",
       "      <td>2</td>\n",
       "      <td>31.2750</td>\n",
       "      <td>0</td>\n",
       "      <td>1</td>\n",
       "      <td>1</td>\n",
       "      <td>0</td>\n",
       "      <td>0</td>\n",
       "      <td>0</td>\n",
       "      <td>1</td>\n",
       "      <td>0</td>\n",
       "      <td>0</td>\n",
       "      <td>0</td>\n",
       "      <td>0</td>\n",
       "    </tr>\n",
       "  </tbody>\n",
       "</table>\n",
       "</div>"
      ],
      "text/plain": [
       "     Pclass  SibSp  Parch     Fare  Sex_male  Sex_female  Embarked_S  \\\n",
       "331       1      0      0  28.5000         1           0           1   \n",
       "733       2      0      0  13.0000         1           0           1   \n",
       "382       3      0      0   7.9250         1           0           1   \n",
       "704       3      1      0   7.8542         1           0           1   \n",
       "813       3      4      2  31.2750         0           1           1   \n",
       "\n",
       "     Embarked_C  Embarked_Q  Embarked_nan  Age_child  Age_teen  \\\n",
       "331           0           0             0          0         0   \n",
       "733           0           0             0          0         0   \n",
       "382           0           0             0          0         0   \n",
       "704           0           0             0          0         0   \n",
       "813           0           0             0          1         0   \n",
       "\n",
       "     Age_young_adult  Age_adult  Age_elder  \n",
       "331                0          1          0  \n",
       "733                1          0          0  \n",
       "382                0          1          0  \n",
       "704                1          0          0  \n",
       "813                0          0          0  "
      ]
     },
     "execution_count": 9,
     "metadata": {},
     "output_type": "execute_result"
    }
   ],
   "source": [
    "# Viewing the first few rows of the X_train dataset\n",
    "X_train.head()"
   ]
  },
  {
   "cell_type": "code",
   "execution_count": 10,
   "id": "2867eb50",
   "metadata": {},
   "outputs": [
    {
     "data": {
      "application/vnd.microsoft.datawrangler.viewer.v0+json": {
       "columns": [
        {
         "name": "index",
         "rawType": "int64",
         "type": "integer"
        },
        {
         "name": "Survived",
         "rawType": "int64",
         "type": "integer"
        }
       ],
       "ref": "c9e0aee7-d43d-424a-9579-d98444e26160",
       "rows": [
        [
         "331",
         "0"
        ],
        [
         "733",
         "0"
        ],
        [
         "382",
         "0"
        ],
        [
         "704",
         "0"
        ],
        [
         "813",
         "0"
        ]
       ],
       "shape": {
        "columns": 1,
        "rows": 5
       }
      },
      "text/html": [
       "<div>\n",
       "<style scoped>\n",
       "    .dataframe tbody tr th:only-of-type {\n",
       "        vertical-align: middle;\n",
       "    }\n",
       "\n",
       "    .dataframe tbody tr th {\n",
       "        vertical-align: top;\n",
       "    }\n",
       "\n",
       "    .dataframe thead th {\n",
       "        text-align: right;\n",
       "    }\n",
       "</style>\n",
       "<table border=\"1\" class=\"dataframe\">\n",
       "  <thead>\n",
       "    <tr style=\"text-align: right;\">\n",
       "      <th></th>\n",
       "      <th>Survived</th>\n",
       "    </tr>\n",
       "  </thead>\n",
       "  <tbody>\n",
       "    <tr>\n",
       "      <th>331</th>\n",
       "      <td>0</td>\n",
       "    </tr>\n",
       "    <tr>\n",
       "      <th>733</th>\n",
       "      <td>0</td>\n",
       "    </tr>\n",
       "    <tr>\n",
       "      <th>382</th>\n",
       "      <td>0</td>\n",
       "    </tr>\n",
       "    <tr>\n",
       "      <th>704</th>\n",
       "      <td>0</td>\n",
       "    </tr>\n",
       "    <tr>\n",
       "      <th>813</th>\n",
       "      <td>0</td>\n",
       "    </tr>\n",
       "  </tbody>\n",
       "</table>\n",
       "</div>"
      ],
      "text/plain": [
       "     Survived\n",
       "331         0\n",
       "733         0\n",
       "382         0\n",
       "704         0\n",
       "813         0"
      ]
     },
     "execution_count": 10,
     "metadata": {},
     "output_type": "execute_result"
    }
   ],
   "source": [
    "# Viewing the first few rows of the y_train dataset\n",
    "y_train.head()"
   ]
  },
  {
   "cell_type": "code",
   "execution_count": 11,
   "id": "ce271615",
   "metadata": {},
   "outputs": [
    {
     "data": {
      "text/plain": [
       "0.20089786756453423"
      ]
     },
     "execution_count": 11,
     "metadata": {},
     "output_type": "execute_result"
    }
   ],
   "source": [
    "# Checking to see that the 20% split worked properly\n",
    "len(X_val) / len(X)"
   ]
  },
  {
   "cell_type": "markdown",
   "id": "8b3abf83",
   "metadata": {},
   "source": [
    "## Hyperparameter Tuning"
   ]
  },
  {
   "cell_type": "code",
   "execution_count": 12,
   "id": "8179b8f8",
   "metadata": {},
   "outputs": [],
   "source": [
    "# Instantiating a Random Forest Classifier object\n",
    "rfc_gridsearch = RandomForestClassifier()"
   ]
  },
  {
   "cell_type": "code",
   "execution_count": 13,
   "id": "487099e3",
   "metadata": {},
   "outputs": [],
   "source": [
    "# Defining the parameter grid for hyperparameter tuning\n",
    "params = {'n_estimators': [10, 50, 100],\n",
    "          'min_samples_split': [2, 5, 10],\n",
    "          'min_samples_leaf': [1, 2, 5],\n",
    "          'max_depth': [10, 20, 50]\n",
    "         }"
   ]
  },
  {
   "cell_type": "code",
   "execution_count": 14,
   "id": "2ba8bc6f",
   "metadata": {},
   "outputs": [],
   "source": [
    "# Instantiating the GridSearchCV object\n",
    "hyperparameter_tuner = GridSearchCV(estimator = rfc_gridsearch,\n",
    "                                    param_grid = params)"
   ]
  },
  {
   "cell_type": "code",
   "execution_count": 15,
   "id": "76f0ba0c",
   "metadata": {},
   "outputs": [
    {
     "data": {
      "text/plain": [
       "GridSearchCV(estimator=RandomForestClassifier(),\n",
       "             param_grid={'max_depth': [10, 20, 50],\n",
       "                         'min_samples_leaf': [1, 2, 5],\n",
       "                         'min_samples_split': [2, 5, 10],\n",
       "                         'n_estimators': [10, 50, 100]})"
      ]
     },
     "execution_count": 15,
     "metadata": {},
     "output_type": "execute_result"
    }
   ],
   "source": [
    "# Running the hyperparameter tuning job\n",
    "hyperparameter_tuner.fit(X_train, y_train)"
   ]
  },
  {
   "cell_type": "code",
   "execution_count": 16,
   "id": "642b0e95",
   "metadata": {},
   "outputs": [
    {
     "data": {
      "text/plain": [
       "{'max_depth': 10,\n",
       " 'min_samples_leaf': 2,\n",
       " 'min_samples_split': 10,\n",
       " 'n_estimators': 50}"
      ]
     },
     "execution_count": 16,
     "metadata": {},
     "output_type": "execute_result"
    }
   ],
   "source": [
    "# Viewing the best parameters from the hyperparameter tuning job\n",
    "hyperparameter_tuner.best_params_"
   ]
  },
  {
   "cell_type": "markdown",
   "id": "a8c8fe86",
   "metadata": {},
   "source": [
    "## Model Training"
   ]
  },
  {
   "cell_type": "code",
   "execution_count": 17,
   "id": "10f65d05",
   "metadata": {},
   "outputs": [],
   "source": [
    "# Instantiating a new Random Forest Classifier object\n",
    "rfc_model = RandomForestClassifier(n_estimators = 50,\n",
    "                                   max_depth = 20,\n",
    "                                   min_samples_split = 10,\n",
    "                                   min_samples_leaf = 2)"
   ]
  },
  {
   "cell_type": "code",
   "execution_count": 18,
   "id": "2289f30f",
   "metadata": {},
   "outputs": [
    {
     "data": {
      "text/plain": [
       "RandomForestClassifier(max_depth=20, min_samples_leaf=2, min_samples_split=10,\n",
       "                       n_estimators=50)"
      ]
     },
     "execution_count": 18,
     "metadata": {},
     "output_type": "execute_result"
    }
   ],
   "source": [
    "# Performing the model training\n",
    "rfc_model.fit(X_train, y_train)"
   ]
  },
  {
   "cell_type": "markdown",
   "id": "9b31d600",
   "metadata": {},
   "source": [
    "## Model Validation"
   ]
  },
  {
   "cell_type": "code",
   "execution_count": 19,
   "id": "1101ddc8",
   "metadata": {},
   "outputs": [],
   "source": [
    "# Getting predictions on the X_val dataset using the trained RFC model\n",
    "val_preds = rfc_model.predict(X_val)"
   ]
  },
  {
   "cell_type": "code",
   "execution_count": 20,
   "id": "8893960d",
   "metadata": {},
   "outputs": [],
   "source": [
    "# Getting the metrics with the validation dataset\n",
    "val_accuracy = accuracy_score(y_val, val_preds)\n",
    "val_roc_auc = roc_auc_score(y_val, val_preds)\n",
    "val_confusion_matrix = confusion_matrix(y_val, val_preds)"
   ]
  },
  {
   "cell_type": "code",
   "execution_count": 21,
   "id": "74e688e1",
   "metadata": {},
   "outputs": [
    {
     "name": "stdout",
     "output_type": "stream",
     "text": [
      "Accuracy Score: 0.8156424581005587\n",
      "ROC-AUC Score: 0.798970398970399\n",
      "Confusion Matrix: \n",
      "[[94 11]\n",
      " [22 52]]\n"
     ]
    }
   ],
   "source": [
    "# Printing out the validation metrics\n",
    "print(f'Accuracy Score: {val_accuracy}')\n",
    "print(f'ROC-AUC Score: {val_roc_auc}')\n",
    "print(f'Confusion Matrix: \\n{val_confusion_matrix}')"
   ]
  },
  {
   "cell_type": "markdown",
   "id": "5e557616",
   "metadata": {},
   "source": [
    "## Saving out a Simple Model"
   ]
  },
  {
   "cell_type": "code",
   "execution_count": 22,
   "id": "29d5629f",
   "metadata": {},
   "outputs": [],
   "source": [
    "# Saving the RFC model to a pickle\n",
    "with open('../models/rfc_model.pkl', 'wb') as f:\n",
    "    cloudpickle.dump(rfc_model, f)"
   ]
  },
  {
   "cell_type": "markdown",
   "id": "56ddb883",
   "metadata": {},
   "source": [
    "## Loading our Trained Model"
   ]
  },
  {
   "cell_type": "code",
   "execution_count": 23,
   "id": "2dedeb32",
   "metadata": {},
   "outputs": [],
   "source": [
    "# Loading in the RFC model from serialized file\n",
    "with open('../models/rfc_model.pkl', 'rb') as f:\n",
    "    rfc_loaded_model = cloudpickle.load(f)"
   ]
  },
  {
   "cell_type": "code",
   "execution_count": 24,
   "id": "6b797811",
   "metadata": {},
   "outputs": [],
   "source": [
    "# Getting predictions with the loaded model\n",
    "loaded_preds = rfc_loaded_model.predict(X_val)"
   ]
  },
  {
   "cell_type": "code",
   "execution_count": 25,
   "id": "a2bcd253",
   "metadata": {},
   "outputs": [
    {
     "name": "stdout",
     "output_type": "stream",
     "text": [
      "Accuracy Score: 0.8156424581005587\n",
      "ROC-AUC Score: 0.798970398970399\n",
      "Confusion Matrix: \n",
      "[[94 11]\n",
      " [22 52]]\n"
     ]
    }
   ],
   "source": [
    "# Showing the metrics with the loaded preds\n",
    "val_accuracy = accuracy_score(y_val, loaded_preds)\n",
    "val_roc_auc = roc_auc_score(y_val, loaded_preds)\n",
    "val_confusion_matrix = confusion_matrix(y_val, loaded_preds)\n",
    "\n",
    "print(f'Accuracy Score: {val_accuracy}')\n",
    "print(f'ROC-AUC Score: {val_roc_auc}')\n",
    "print(f'Confusion Matrix: \\n{val_confusion_matrix}')"
   ]
  },
  {
   "cell_type": "markdown",
   "id": "a2674afd",
   "metadata": {},
   "source": [
    "## Creating a Full Pipeline\n",
    "In our livestream on Sept. 9, we focused on training a model and just saving that model alone. It is possible to save a serialized pickle file that not only contains the ability to perform inference on cleaned data but can also do that data cleansing itself. In this section, we'll be taking everything we've done so far to create a full ML inference pipeline."
   ]
  },
  {
   "cell_type": "markdown",
   "id": "b31d205d",
   "metadata": {},
   "source": [
    "### Loading Raw Data\n",
    "Since our pipeline is going to take data in pretty much it's purest, rawest form, we are going to load in that original raw dataset we downloaded from Kaggle instead of working with our already cleaned data."
   ]
  },
  {
   "cell_type": "code",
   "execution_count": 50,
   "id": "ea1aca3e",
   "metadata": {},
   "outputs": [],
   "source": [
    "# Loading in the raw Titanic training data\n",
    "df_raw = pd.read_csv('../data/raw/train.csv')"
   ]
  },
  {
   "cell_type": "code",
   "execution_count": 25,
   "id": "bdbf891f",
   "metadata": {},
   "outputs": [],
   "source": [
    "# Separating predictor value from the remainder of the dataset\n",
    "X = df_raw.drop(columns = ['Survived'])\n",
    "y = df_raw[['Survived']]"
   ]
  },
  {
   "cell_type": "code",
   "execution_count": 52,
   "id": "2a39732b",
   "metadata": {},
   "outputs": [],
   "source": [
    "# Reloading the raw data to ensure we have the original columns including Age\n",
    "df_raw = pd.read_csv('../data/raw/train.csv')\n",
    "X = df_raw.drop(columns = ['Survived'])\n",
    "y = df_raw[['Survived']]\n",
    "\n",
    "# Performing training / validation dataset split\n",
    "X_train, X_val, y_train, y_val = train_test_split(X, y, random_state = 42)"
   ]
  },
  {
   "cell_type": "code",
   "execution_count": 53,
   "id": "a3b06729",
   "metadata": {},
   "outputs": [
    {
     "name": "stdout",
     "output_type": "stream",
     "text": [
      "Columns in X_train:\n",
      "['PassengerId', 'Pclass', 'Name', 'Sex', 'Age', 'SibSp', 'Parch', 'Ticket', 'Fare', 'Cabin', 'Embarked']\n",
      "\n",
      "First few rows of X_train with Age column:\n"
     ]
    },
    {
     "data": {
      "application/vnd.microsoft.datawrangler.viewer.v0+json": {
       "columns": [
        {
         "name": "index",
         "rawType": "int64",
         "type": "integer"
        },
        {
         "name": "PassengerId",
         "rawType": "int64",
         "type": "integer"
        },
        {
         "name": "Pclass",
         "rawType": "int64",
         "type": "integer"
        },
        {
         "name": "Name",
         "rawType": "object",
         "type": "string"
        },
        {
         "name": "Sex",
         "rawType": "object",
         "type": "string"
        },
        {
         "name": "Age",
         "rawType": "float64",
         "type": "float"
        },
        {
         "name": "SibSp",
         "rawType": "int64",
         "type": "integer"
        },
        {
         "name": "Parch",
         "rawType": "int64",
         "type": "integer"
        },
        {
         "name": "Ticket",
         "rawType": "object",
         "type": "string"
        },
        {
         "name": "Fare",
         "rawType": "float64",
         "type": "float"
        },
        {
         "name": "Cabin",
         "rawType": "object",
         "type": "string"
        },
        {
         "name": "Embarked",
         "rawType": "object",
         "type": "string"
        }
       ],
       "ref": "aabdff14-a044-41a5-acec-57fc9a40f97f",
       "rows": [
        [
         "298",
         "299",
         "1",
         "Saalfeld, Mr. Adolphe",
         "male",
         null,
         "0",
         "0",
         "19988",
         "30.5",
         "C106",
         "S"
        ],
        [
         "884",
         "885",
         "3",
         "Sutehall, Mr. Henry Jr",
         "male",
         "25.0",
         "0",
         "0",
         "SOTON/OQ 392076",
         "7.05",
         null,
         "S"
        ],
        [
         "247",
         "248",
         "2",
         "Hamalainen, Mrs. William (Anna)",
         "female",
         "24.0",
         "0",
         "2",
         "250649",
         "14.5",
         null,
         "S"
        ],
        [
         "478",
         "479",
         "3",
         "Karlsson, Mr. Nils August",
         "male",
         "22.0",
         "0",
         "0",
         "350060",
         "7.5208",
         null,
         "S"
        ],
        [
         "305",
         "306",
         "1",
         "Allison, Master. Hudson Trevor",
         "male",
         "0.92",
         "1",
         "2",
         "113781",
         "151.55",
         "C22 C26",
         "S"
        ]
       ],
       "shape": {
        "columns": 11,
        "rows": 5
       }
      },
      "text/html": [
       "<div>\n",
       "<style scoped>\n",
       "    .dataframe tbody tr th:only-of-type {\n",
       "        vertical-align: middle;\n",
       "    }\n",
       "\n",
       "    .dataframe tbody tr th {\n",
       "        vertical-align: top;\n",
       "    }\n",
       "\n",
       "    .dataframe thead th {\n",
       "        text-align: right;\n",
       "    }\n",
       "</style>\n",
       "<table border=\"1\" class=\"dataframe\">\n",
       "  <thead>\n",
       "    <tr style=\"text-align: right;\">\n",
       "      <th></th>\n",
       "      <th>PassengerId</th>\n",
       "      <th>Pclass</th>\n",
       "      <th>Name</th>\n",
       "      <th>Sex</th>\n",
       "      <th>Age</th>\n",
       "      <th>SibSp</th>\n",
       "      <th>Parch</th>\n",
       "      <th>Ticket</th>\n",
       "      <th>Fare</th>\n",
       "      <th>Cabin</th>\n",
       "      <th>Embarked</th>\n",
       "    </tr>\n",
       "  </thead>\n",
       "  <tbody>\n",
       "    <tr>\n",
       "      <th>298</th>\n",
       "      <td>299</td>\n",
       "      <td>1</td>\n",
       "      <td>Saalfeld, Mr. Adolphe</td>\n",
       "      <td>male</td>\n",
       "      <td>NaN</td>\n",
       "      <td>0</td>\n",
       "      <td>0</td>\n",
       "      <td>19988</td>\n",
       "      <td>30.5000</td>\n",
       "      <td>C106</td>\n",
       "      <td>S</td>\n",
       "    </tr>\n",
       "    <tr>\n",
       "      <th>884</th>\n",
       "      <td>885</td>\n",
       "      <td>3</td>\n",
       "      <td>Sutehall, Mr. Henry Jr</td>\n",
       "      <td>male</td>\n",
       "      <td>25.00</td>\n",
       "      <td>0</td>\n",
       "      <td>0</td>\n",
       "      <td>SOTON/OQ 392076</td>\n",
       "      <td>7.0500</td>\n",
       "      <td>NaN</td>\n",
       "      <td>S</td>\n",
       "    </tr>\n",
       "    <tr>\n",
       "      <th>247</th>\n",
       "      <td>248</td>\n",
       "      <td>2</td>\n",
       "      <td>Hamalainen, Mrs. William (Anna)</td>\n",
       "      <td>female</td>\n",
       "      <td>24.00</td>\n",
       "      <td>0</td>\n",
       "      <td>2</td>\n",
       "      <td>250649</td>\n",
       "      <td>14.5000</td>\n",
       "      <td>NaN</td>\n",
       "      <td>S</td>\n",
       "    </tr>\n",
       "    <tr>\n",
       "      <th>478</th>\n",
       "      <td>479</td>\n",
       "      <td>3</td>\n",
       "      <td>Karlsson, Mr. Nils August</td>\n",
       "      <td>male</td>\n",
       "      <td>22.00</td>\n",
       "      <td>0</td>\n",
       "      <td>0</td>\n",
       "      <td>350060</td>\n",
       "      <td>7.5208</td>\n",
       "      <td>NaN</td>\n",
       "      <td>S</td>\n",
       "    </tr>\n",
       "    <tr>\n",
       "      <th>305</th>\n",
       "      <td>306</td>\n",
       "      <td>1</td>\n",
       "      <td>Allison, Master. Hudson Trevor</td>\n",
       "      <td>male</td>\n",
       "      <td>0.92</td>\n",
       "      <td>1</td>\n",
       "      <td>2</td>\n",
       "      <td>113781</td>\n",
       "      <td>151.5500</td>\n",
       "      <td>C22 C26</td>\n",
       "      <td>S</td>\n",
       "    </tr>\n",
       "  </tbody>\n",
       "</table>\n",
       "</div>"
      ],
      "text/plain": [
       "     PassengerId  Pclass                             Name     Sex    Age  \\\n",
       "298          299       1            Saalfeld, Mr. Adolphe    male    NaN   \n",
       "884          885       3           Sutehall, Mr. Henry Jr    male  25.00   \n",
       "247          248       2  Hamalainen, Mrs. William (Anna)  female  24.00   \n",
       "478          479       3        Karlsson, Mr. Nils August    male  22.00   \n",
       "305          306       1   Allison, Master. Hudson Trevor    male   0.92   \n",
       "\n",
       "     SibSp  Parch           Ticket      Fare    Cabin Embarked  \n",
       "298      0      0            19988   30.5000     C106        S  \n",
       "884      0      0  SOTON/OQ 392076    7.0500      NaN        S  \n",
       "247      0      2           250649   14.5000      NaN        S  \n",
       "478      0      0           350060    7.5208      NaN        S  \n",
       "305      1      2           113781  151.5500  C22 C26        S  "
      ]
     },
     "execution_count": 53,
     "metadata": {},
     "output_type": "execute_result"
    }
   ],
   "source": [
    "print(\"Columns in X_train:\")\n",
    "print(X_train.columns.tolist())\n",
    "print(\"\\nFirst few rows of X_train with Age column:\")\n",
    "X_train.head()"
   ]
  },
  {
   "cell_type": "markdown",
   "id": "db2cd112",
   "metadata": {},
   "source": [
    "### Helper Functions\n",
    "As part of our feature engineering, you might recall that we did some special things to create certain features. Before we jump into creating our pipeline, we'll need to package that feature engineering as their own respective Python functions. You'll notice this code is pretty much copy/pasted as is from our feature engineering notebook."
   ]
  },
  {
   "cell_type": "code",
   "execution_count": 17,
   "id": "c9c5b6d9",
   "metadata": {},
   "outputs": [],
   "source": [
    "# Creating a function to appropriately engineer the 'Age' column\n",
    "def create_age_bins(df):\n",
    "    '''Engineers age bin variables for the pipeline'''\n",
    "    \n",
    "    # Filling any null values with the median age of 28.0\n",
    "    median_age = 28.0\n",
    "    df['Age'].fillna(median_age, inplace = True)\n",
    "    \n",
    "    # Establishing our bins values and names\n",
    "    bin_labels = ['child', 'teen', 'young_adult', 'adult', 'elder']\n",
    "    bin_values = [-1, 12, 19, 30, 60, 100]\n",
    "    \n",
    "    # Applying \"Age\" binning with Pandas cut\n",
    "    age_bins = pd.cut(df['Age'], bins = bin_values, labels = bin_labels)\n",
    "    df_age_bins = pd.DataFrame(age_bins)\n",
    "    \n",
    "    # Dropping the original \"Age\" column\n",
    "    df.drop(columns = ['Age'], inplace = True)\n",
    "    \n",
    "    # Concatenating the new \"Age\" column to the original DataFrame\n",
    "    df = pd.concat([df, df_age_bins], axis = 1)\n",
    "    \n",
    "    return df"
   ]
  },
  {
   "cell_type": "code",
   "execution_count": 29,
   "id": "49720f1e",
   "metadata": {},
   "outputs": [
    {
     "name": "stdout",
     "output_type": "stream",
     "text": [
      "Columns after age binning:\n",
      "['PassengerId', 'Pclass', 'Name', 'Sex', 'SibSp', 'Parch', 'Ticket', 'Fare', 'Cabin', 'Embarked', 'Age']\n"
     ]
    },
    {
     "data": {
      "application/vnd.microsoft.datawrangler.viewer.v0+json": {
       "columns": [
        {
         "name": "index",
         "rawType": "int64",
         "type": "integer"
        },
        {
         "name": "PassengerId",
         "rawType": "int64",
         "type": "integer"
        },
        {
         "name": "Pclass",
         "rawType": "int64",
         "type": "integer"
        },
        {
         "name": "Name",
         "rawType": "object",
         "type": "string"
        },
        {
         "name": "Sex",
         "rawType": "object",
         "type": "string"
        },
        {
         "name": "SibSp",
         "rawType": "int64",
         "type": "integer"
        },
        {
         "name": "Parch",
         "rawType": "int64",
         "type": "integer"
        },
        {
         "name": "Ticket",
         "rawType": "object",
         "type": "string"
        },
        {
         "name": "Fare",
         "rawType": "float64",
         "type": "float"
        },
        {
         "name": "Cabin",
         "rawType": "object",
         "type": "string"
        },
        {
         "name": "Embarked",
         "rawType": "object",
         "type": "string"
        },
        {
         "name": "Age",
         "rawType": "category",
         "type": "unknown"
        }
       ],
       "ref": "8395c3d9-4ada-48dd-a92e-be0b9b7cfb43",
       "rows": [
        [
         "298",
         "299",
         "1",
         "Saalfeld, Mr. Adolphe",
         "male",
         "0",
         "0",
         "19988",
         "30.5",
         "C106",
         "S",
         "young_adult"
        ],
        [
         "884",
         "885",
         "3",
         "Sutehall, Mr. Henry Jr",
         "male",
         "0",
         "0",
         "SOTON/OQ 392076",
         "7.05",
         null,
         "S",
         "young_adult"
        ],
        [
         "247",
         "248",
         "2",
         "Hamalainen, Mrs. William (Anna)",
         "female",
         "0",
         "2",
         "250649",
         "14.5",
         null,
         "S",
         "young_adult"
        ],
        [
         "478",
         "479",
         "3",
         "Karlsson, Mr. Nils August",
         "male",
         "0",
         "0",
         "350060",
         "7.5208",
         null,
         "S",
         "young_adult"
        ],
        [
         "305",
         "306",
         "1",
         "Allison, Master. Hudson Trevor",
         "male",
         "1",
         "2",
         "113781",
         "151.55",
         "C22 C26",
         "S",
         "child"
        ]
       ],
       "shape": {
        "columns": 11,
        "rows": 5
       }
      },
      "text/html": [
       "<div>\n",
       "<style scoped>\n",
       "    .dataframe tbody tr th:only-of-type {\n",
       "        vertical-align: middle;\n",
       "    }\n",
       "\n",
       "    .dataframe tbody tr th {\n",
       "        vertical-align: top;\n",
       "    }\n",
       "\n",
       "    .dataframe thead th {\n",
       "        text-align: right;\n",
       "    }\n",
       "</style>\n",
       "<table border=\"1\" class=\"dataframe\">\n",
       "  <thead>\n",
       "    <tr style=\"text-align: right;\">\n",
       "      <th></th>\n",
       "      <th>PassengerId</th>\n",
       "      <th>Pclass</th>\n",
       "      <th>Name</th>\n",
       "      <th>Sex</th>\n",
       "      <th>SibSp</th>\n",
       "      <th>Parch</th>\n",
       "      <th>Ticket</th>\n",
       "      <th>Fare</th>\n",
       "      <th>Cabin</th>\n",
       "      <th>Embarked</th>\n",
       "      <th>Age</th>\n",
       "    </tr>\n",
       "  </thead>\n",
       "  <tbody>\n",
       "    <tr>\n",
       "      <th>298</th>\n",
       "      <td>299</td>\n",
       "      <td>1</td>\n",
       "      <td>Saalfeld, Mr. Adolphe</td>\n",
       "      <td>male</td>\n",
       "      <td>0</td>\n",
       "      <td>0</td>\n",
       "      <td>19988</td>\n",
       "      <td>30.5000</td>\n",
       "      <td>C106</td>\n",
       "      <td>S</td>\n",
       "      <td>young_adult</td>\n",
       "    </tr>\n",
       "    <tr>\n",
       "      <th>884</th>\n",
       "      <td>885</td>\n",
       "      <td>3</td>\n",
       "      <td>Sutehall, Mr. Henry Jr</td>\n",
       "      <td>male</td>\n",
       "      <td>0</td>\n",
       "      <td>0</td>\n",
       "      <td>SOTON/OQ 392076</td>\n",
       "      <td>7.0500</td>\n",
       "      <td>NaN</td>\n",
       "      <td>S</td>\n",
       "      <td>young_adult</td>\n",
       "    </tr>\n",
       "    <tr>\n",
       "      <th>247</th>\n",
       "      <td>248</td>\n",
       "      <td>2</td>\n",
       "      <td>Hamalainen, Mrs. William (Anna)</td>\n",
       "      <td>female</td>\n",
       "      <td>0</td>\n",
       "      <td>2</td>\n",
       "      <td>250649</td>\n",
       "      <td>14.5000</td>\n",
       "      <td>NaN</td>\n",
       "      <td>S</td>\n",
       "      <td>young_adult</td>\n",
       "    </tr>\n",
       "    <tr>\n",
       "      <th>478</th>\n",
       "      <td>479</td>\n",
       "      <td>3</td>\n",
       "      <td>Karlsson, Mr. Nils August</td>\n",
       "      <td>male</td>\n",
       "      <td>0</td>\n",
       "      <td>0</td>\n",
       "      <td>350060</td>\n",
       "      <td>7.5208</td>\n",
       "      <td>NaN</td>\n",
       "      <td>S</td>\n",
       "      <td>young_adult</td>\n",
       "    </tr>\n",
       "    <tr>\n",
       "      <th>305</th>\n",
       "      <td>306</td>\n",
       "      <td>1</td>\n",
       "      <td>Allison, Master. Hudson Trevor</td>\n",
       "      <td>male</td>\n",
       "      <td>1</td>\n",
       "      <td>2</td>\n",
       "      <td>113781</td>\n",
       "      <td>151.5500</td>\n",
       "      <td>C22 C26</td>\n",
       "      <td>S</td>\n",
       "      <td>child</td>\n",
       "    </tr>\n",
       "  </tbody>\n",
       "</table>\n",
       "</div>"
      ],
      "text/plain": [
       "     PassengerId  Pclass                             Name     Sex  SibSp  \\\n",
       "298          299       1            Saalfeld, Mr. Adolphe    male      0   \n",
       "884          885       3           Sutehall, Mr. Henry Jr    male      0   \n",
       "247          248       2  Hamalainen, Mrs. William (Anna)  female      0   \n",
       "478          479       3        Karlsson, Mr. Nils August    male      0   \n",
       "305          306       1   Allison, Master. Hudson Trevor    male      1   \n",
       "\n",
       "     Parch           Ticket      Fare    Cabin Embarked          Age  \n",
       "298      0            19988   30.5000     C106        S  young_adult  \n",
       "884      0  SOTON/OQ 392076    7.0500      NaN        S  young_adult  \n",
       "247      2           250649   14.5000      NaN        S  young_adult  \n",
       "478      0           350060    7.5208      NaN        S  young_adult  \n",
       "305      2           113781  151.5500  C22 C26        S        child  "
      ]
     },
     "execution_count": 29,
     "metadata": {},
     "output_type": "execute_result"
    }
   ],
   "source": [
    "# Test the age binning function with a copy to avoid modifying original data\n",
    "X_train_copy = X_train.copy()\n",
    "a = create_age_bins(X_train_copy)\n",
    "print(\"Columns after age binning:\")\n",
    "print(a.columns.tolist())\n",
    "a.head()"
   ]
  },
  {
   "cell_type": "markdown",
   "id": "84a7bcc3",
   "metadata": {},
   "source": [
    "### Pipeline Creation\n",
    "Now that we have created our helper functions to perform the feature engineering, we are ready to begin packaging everything as a single, unified pipeline."
   ]
  },
  {
   "cell_type": "code",
   "execution_count": 34,
   "id": "36eb97bb",
   "metadata": {},
   "outputs": [],
   "source": [
    "# Creating the \"Age\" binning function transformer as the first step into our modeling pipeline\n",
    "age_binner = FunctionTransformer(create_age_bins, validate = False)"
   ]
  },
  {
   "cell_type": "code",
   "execution_count": 19,
   "id": "50f90469",
   "metadata": {},
   "outputs": [
    {
     "data": {
      "text/plain": [
       "FunctionTransformer(func=<function create_age_bins at 0x0000021F7FE35DC0>)"
      ]
     },
     "execution_count": 19,
     "metadata": {},
     "output_type": "execute_result"
    }
   ],
   "source": [
    "age_binner"
   ]
  },
  {
   "cell_type": "code",
   "execution_count": 35,
   "id": "4b371910",
   "metadata": {},
   "outputs": [],
   "source": [
    "# Creating the data preprocessor that will perform our feature engineering\n",
    "data_preprocessor = ColumnTransformer(transformers = [\n",
    "    ('ohe_engineering', OneHotEncoder(use_cat_names = True, handle_unknown = 'ignore'), ['Age', 'Sex', 'Embarked']),\n",
    "    ('columns_to_drop', 'drop', ['PassengerId', 'Name', 'Ticket', 'Cabin'])],\n",
    "                                      remainder = 'passthrough'\n",
    ")"
   ]
  },
  {
   "cell_type": "code",
   "execution_count": 37,
   "id": "d4c277d6",
   "metadata": {},
   "outputs": [],
   "source": [
    "# Creating the full inference pipeline\n",
    "rfc_pipeline = Pipeline(steps = [\n",
    "    ('age_binning', age_binner),\n",
    "    ('feature_engineering', data_preprocessor),\n",
    "    ('predictive_modeling', RandomForestClassifier(n_estimators = 50,\n",
    "                                                   max_depth = 20,\n",
    "                                                   min_samples_split = 10,\n",
    "                                                   min_samples_leaf = 2))\n",
    "])"
   ]
  },
  {
   "cell_type": "code",
   "execution_count": 49,
   "id": "78d80019",
   "metadata": {},
   "outputs": [
    {
     "data": {
      "application/vnd.microsoft.datawrangler.viewer.v0+json": {
       "columns": [
        {
         "name": "index",
         "rawType": "int64",
         "type": "integer"
        },
        {
         "name": "PassengerId",
         "rawType": "int64",
         "type": "integer"
        },
        {
         "name": "Pclass",
         "rawType": "int64",
         "type": "integer"
        },
        {
         "name": "Name",
         "rawType": "object",
         "type": "string"
        },
        {
         "name": "Sex",
         "rawType": "object",
         "type": "string"
        },
        {
         "name": "SibSp",
         "rawType": "int64",
         "type": "integer"
        },
        {
         "name": "Parch",
         "rawType": "int64",
         "type": "integer"
        },
        {
         "name": "Ticket",
         "rawType": "object",
         "type": "string"
        },
        {
         "name": "Fare",
         "rawType": "float64",
         "type": "float"
        },
        {
         "name": "Cabin",
         "rawType": "object",
         "type": "string"
        },
        {
         "name": "Embarked",
         "rawType": "object",
         "type": "string"
        }
       ],
       "ref": "b5bb85f0-5d55-492e-a1e3-1533f931ccb0",
       "rows": [
        [
         "298",
         "299",
         "1",
         "Saalfeld, Mr. Adolphe",
         "male",
         "0",
         "0",
         "19988",
         "30.5",
         "C106",
         "S"
        ],
        [
         "884",
         "885",
         "3",
         "Sutehall, Mr. Henry Jr",
         "male",
         "0",
         "0",
         "SOTON/OQ 392076",
         "7.05",
         null,
         "S"
        ],
        [
         "247",
         "248",
         "2",
         "Hamalainen, Mrs. William (Anna)",
         "female",
         "0",
         "2",
         "250649",
         "14.5",
         null,
         "S"
        ],
        [
         "478",
         "479",
         "3",
         "Karlsson, Mr. Nils August",
         "male",
         "0",
         "0",
         "350060",
         "7.5208",
         null,
         "S"
        ],
        [
         "305",
         "306",
         "1",
         "Allison, Master. Hudson Trevor",
         "male",
         "1",
         "2",
         "113781",
         "151.55",
         "C22 C26",
         "S"
        ],
        [
         "316",
         "317",
         "2",
         "Kantor, Mrs. Sinai (Miriam Sternin)",
         "female",
         "1",
         "0",
         "244367",
         "26.0",
         null,
         "S"
        ],
        [
         "2",
         "3",
         "3",
         "Heikkinen, Miss. Laina",
         "female",
         "0",
         "0",
         "STON/O2. 3101282",
         "7.925",
         null,
         "S"
        ],
        [
         "405",
         "406",
         "2",
         "Gale, Mr. Shadrach",
         "male",
         "1",
         "0",
         "28664",
         "21.0",
         null,
         "S"
        ],
        [
         "742",
         "743",
         "1",
         "Ryerson, Miss. Susan Parker \"Suzette\"",
         "female",
         "2",
         "2",
         "PC 17608",
         "262.375",
         "B57 B59 B63 B66",
         "C"
        ],
        [
         "260",
         "261",
         "3",
         "Smith, Mr. Thomas",
         "male",
         "0",
         "0",
         "384461",
         "7.75",
         null,
         "Q"
        ],
        [
         "367",
         "368",
         "3",
         "Moussa, Mrs. (Mantoura Boulos)",
         "female",
         "0",
         "0",
         "2626",
         "7.2292",
         null,
         "C"
        ],
        [
         "158",
         "159",
         "3",
         "Smiljanic, Mr. Mile",
         "male",
         "0",
         "0",
         "315037",
         "8.6625",
         null,
         "S"
        ],
        [
         "554",
         "555",
         "3",
         "Ohman, Miss. Velin",
         "female",
         "0",
         "0",
         "347085",
         "7.775",
         null,
         "S"
        ],
        [
         "829",
         "830",
         "1",
         "Stone, Mrs. George Nelson (Martha Evelyn)",
         "female",
         "0",
         "0",
         "113572",
         "80.0",
         "B28",
         null
        ],
        [
         "677",
         "678",
         "3",
         "Turja, Miss. Anna Sofia",
         "female",
         "0",
         "0",
         "4138",
         "9.8417",
         null,
         "S"
        ],
        [
         "380",
         "381",
         "1",
         "Bidois, Miss. Rosalie",
         "female",
         "0",
         "0",
         "PC 17757",
         "227.525",
         null,
         "C"
        ],
        [
         "626",
         "627",
         "2",
         "Kirkland, Rev. Charles Leonard",
         "male",
         "0",
         "0",
         "219533",
         "12.35",
         null,
         "Q"
        ],
        [
         "302",
         "303",
         "3",
         "Johnson, Mr. William Cahoone Jr",
         "male",
         "0",
         "0",
         "LINE",
         "0.0",
         null,
         "S"
        ],
        [
         "432",
         "433",
         "2",
         "Louch, Mrs. Charles Alexander (Alice Adelaide Slow)",
         "female",
         "1",
         "0",
         "SC/AH 3085",
         "26.0",
         null,
         "S"
        ],
        [
         "522",
         "523",
         "3",
         "Lahoud, Mr. Sarkis",
         "male",
         "0",
         "0",
         "2624",
         "7.225",
         null,
         "C"
        ],
        [
         "404",
         "405",
         "3",
         "Oreskovic, Miss. Marija",
         "female",
         "0",
         "0",
         "315096",
         "8.6625",
         null,
         "S"
        ],
        [
         "843",
         "844",
         "3",
         "Lemberopolous, Mr. Peter L",
         "male",
         "0",
         "0",
         "2683",
         "6.4375",
         null,
         "C"
        ],
        [
         "355",
         "356",
         "3",
         "Vanden Steen, Mr. Leo Peter",
         "male",
         "0",
         "0",
         "345783",
         "9.5",
         null,
         "S"
        ],
        [
         "464",
         "465",
         "3",
         "Maisner, Mr. Simon",
         "male",
         "0",
         "0",
         "A/S 2816",
         "8.05",
         null,
         "S"
        ],
        [
         "753",
         "754",
         "3",
         "Jonkoff, Mr. Lalio",
         "male",
         "0",
         "0",
         "349204",
         "7.8958",
         null,
         "S"
        ],
        [
         "212",
         "213",
         "3",
         "Perkin, Mr. John Henry",
         "male",
         "0",
         "0",
         "A/5 21174",
         "7.25",
         null,
         "S"
        ],
        [
         "449",
         "450",
         "1",
         "Peuchen, Major. Arthur Godfrey",
         "male",
         "0",
         "0",
         "113786",
         "30.5",
         "C104",
         "S"
        ],
        [
         "79",
         "80",
         "3",
         "Dowdell, Miss. Elizabeth",
         "female",
         "0",
         "0",
         "364516",
         "12.475",
         null,
         "S"
        ],
        [
         "148",
         "149",
         "2",
         "Navratil, Mr. Michel (\"Louis M Hoffman\")",
         "male",
         "0",
         "2",
         "230080",
         "26.0",
         "F2",
         "S"
        ],
        [
         "428",
         "429",
         "3",
         "Flynn, Mr. James",
         "male",
         "0",
         "0",
         "364851",
         "7.75",
         null,
         "Q"
        ],
        [
         "60",
         "61",
         "3",
         "Sirayanian, Mr. Orsen",
         "male",
         "0",
         "0",
         "2669",
         "7.2292",
         null,
         "C"
        ],
        [
         "660",
         "661",
         "1",
         "Frauenthal, Dr. Henry William",
         "male",
         "2",
         "0",
         "PC 17611",
         "133.65",
         null,
         "S"
        ],
        [
         "804",
         "805",
         "3",
         "Hedman, Mr. Oskar Arvid",
         "male",
         "0",
         "0",
         "347089",
         "6.975",
         null,
         "S"
        ],
        [
         "588",
         "589",
         "3",
         "Gilinski, Mr. Eliezer",
         "male",
         "0",
         "0",
         "14973",
         "8.05",
         null,
         "S"
        ],
        [
         "765",
         "766",
         "1",
         "Hogeboom, Mrs. John C (Anna Andrews)",
         "female",
         "1",
         "0",
         "13502",
         "77.9583",
         "D11",
         "S"
        ],
        [
         "265",
         "266",
         "2",
         "Reeves, Mr. David",
         "male",
         "0",
         "0",
         "C.A. 17248",
         "10.5",
         null,
         "S"
        ],
        [
         "133",
         "134",
         "2",
         "Weisz, Mrs. Leopold (Mathilde Francoise Pede)",
         "female",
         "1",
         "0",
         "228414",
         "26.0",
         null,
         "S"
        ],
        [
         "708",
         "709",
         "1",
         "Cleaver, Miss. Alice",
         "female",
         "0",
         "0",
         "113781",
         "151.55",
         null,
         "S"
        ],
        [
         "544",
         "545",
         "1",
         "Douglas, Mr. Walter Donald",
         "male",
         "1",
         "0",
         "PC 17761",
         "106.425",
         "C86",
         "C"
        ],
        [
         "346",
         "347",
         "2",
         "Smith, Miss. Marion Elsie",
         "female",
         "0",
         "0",
         "31418",
         "13.0",
         null,
         "S"
        ],
        [
         "821",
         "822",
         "3",
         "Lulic, Mr. Nikola",
         "male",
         "0",
         "0",
         "315098",
         "8.6625",
         null,
         "S"
        ],
        [
         "633",
         "634",
         "1",
         "Parr, Mr. William Henry Marsh",
         "male",
         "0",
         "0",
         "112052",
         "0.0",
         null,
         "S"
        ],
        [
         "456",
         "457",
         "1",
         "Millet, Mr. Francis Davis",
         "male",
         "0",
         "0",
         "13509",
         "26.55",
         "E38",
         "S"
        ],
        [
         "500",
         "501",
         "3",
         "Calic, Mr. Petar",
         "male",
         "0",
         "0",
         "315086",
         "8.6625",
         null,
         "S"
        ],
        [
         "430",
         "431",
         "1",
         "Bjornstrom-Steffansson, Mr. Mauritz Hakan",
         "male",
         "0",
         "0",
         "110564",
         "26.55",
         "C52",
         "S"
        ],
        [
         "445",
         "446",
         "1",
         "Dodge, Master. Washington",
         "male",
         "0",
         "2",
         "33638",
         "81.8583",
         "A34",
         "S"
        ],
        [
         "650",
         "651",
         "3",
         "Mitkoff, Mr. Mito",
         "male",
         "0",
         "0",
         "349221",
         "7.8958",
         null,
         "S"
        ],
        [
         "172",
         "173",
         "3",
         "Johnson, Miss. Eleanor Ileen",
         "female",
         "1",
         "1",
         "347742",
         "11.1333",
         null,
         "S"
        ],
        [
         "450",
         "451",
         "2",
         "West, Mr. Edwy Arthur",
         "male",
         "1",
         "2",
         "C.A. 34651",
         "27.75",
         null,
         "S"
        ],
        [
         "314",
         "315",
         "2",
         "Hart, Mr. Benjamin",
         "male",
         "1",
         "1",
         "F.C.C. 13529",
         "26.25",
         null,
         "S"
        ]
       ],
       "shape": {
        "columns": 10,
        "rows": 668
       }
      },
      "text/html": [
       "<div>\n",
       "<style scoped>\n",
       "    .dataframe tbody tr th:only-of-type {\n",
       "        vertical-align: middle;\n",
       "    }\n",
       "\n",
       "    .dataframe tbody tr th {\n",
       "        vertical-align: top;\n",
       "    }\n",
       "\n",
       "    .dataframe thead th {\n",
       "        text-align: right;\n",
       "    }\n",
       "</style>\n",
       "<table border=\"1\" class=\"dataframe\">\n",
       "  <thead>\n",
       "    <tr style=\"text-align: right;\">\n",
       "      <th></th>\n",
       "      <th>PassengerId</th>\n",
       "      <th>Pclass</th>\n",
       "      <th>Name</th>\n",
       "      <th>Sex</th>\n",
       "      <th>SibSp</th>\n",
       "      <th>Parch</th>\n",
       "      <th>Ticket</th>\n",
       "      <th>Fare</th>\n",
       "      <th>Cabin</th>\n",
       "      <th>Embarked</th>\n",
       "    </tr>\n",
       "  </thead>\n",
       "  <tbody>\n",
       "    <tr>\n",
       "      <th>298</th>\n",
       "      <td>299</td>\n",
       "      <td>1</td>\n",
       "      <td>Saalfeld, Mr. Adolphe</td>\n",
       "      <td>male</td>\n",
       "      <td>0</td>\n",
       "      <td>0</td>\n",
       "      <td>19988</td>\n",
       "      <td>30.5000</td>\n",
       "      <td>C106</td>\n",
       "      <td>S</td>\n",
       "    </tr>\n",
       "    <tr>\n",
       "      <th>884</th>\n",
       "      <td>885</td>\n",
       "      <td>3</td>\n",
       "      <td>Sutehall, Mr. Henry Jr</td>\n",
       "      <td>male</td>\n",
       "      <td>0</td>\n",
       "      <td>0</td>\n",
       "      <td>SOTON/OQ 392076</td>\n",
       "      <td>7.0500</td>\n",
       "      <td>NaN</td>\n",
       "      <td>S</td>\n",
       "    </tr>\n",
       "    <tr>\n",
       "      <th>247</th>\n",
       "      <td>248</td>\n",
       "      <td>2</td>\n",
       "      <td>Hamalainen, Mrs. William (Anna)</td>\n",
       "      <td>female</td>\n",
       "      <td>0</td>\n",
       "      <td>2</td>\n",
       "      <td>250649</td>\n",
       "      <td>14.5000</td>\n",
       "      <td>NaN</td>\n",
       "      <td>S</td>\n",
       "    </tr>\n",
       "    <tr>\n",
       "      <th>478</th>\n",
       "      <td>479</td>\n",
       "      <td>3</td>\n",
       "      <td>Karlsson, Mr. Nils August</td>\n",
       "      <td>male</td>\n",
       "      <td>0</td>\n",
       "      <td>0</td>\n",
       "      <td>350060</td>\n",
       "      <td>7.5208</td>\n",
       "      <td>NaN</td>\n",
       "      <td>S</td>\n",
       "    </tr>\n",
       "    <tr>\n",
       "      <th>305</th>\n",
       "      <td>306</td>\n",
       "      <td>1</td>\n",
       "      <td>Allison, Master. Hudson Trevor</td>\n",
       "      <td>male</td>\n",
       "      <td>1</td>\n",
       "      <td>2</td>\n",
       "      <td>113781</td>\n",
       "      <td>151.5500</td>\n",
       "      <td>C22 C26</td>\n",
       "      <td>S</td>\n",
       "    </tr>\n",
       "    <tr>\n",
       "      <th>...</th>\n",
       "      <td>...</td>\n",
       "      <td>...</td>\n",
       "      <td>...</td>\n",
       "      <td>...</td>\n",
       "      <td>...</td>\n",
       "      <td>...</td>\n",
       "      <td>...</td>\n",
       "      <td>...</td>\n",
       "      <td>...</td>\n",
       "      <td>...</td>\n",
       "    </tr>\n",
       "    <tr>\n",
       "      <th>106</th>\n",
       "      <td>107</td>\n",
       "      <td>3</td>\n",
       "      <td>Salkjelsvik, Miss. Anna Kristine</td>\n",
       "      <td>female</td>\n",
       "      <td>0</td>\n",
       "      <td>0</td>\n",
       "      <td>343120</td>\n",
       "      <td>7.6500</td>\n",
       "      <td>NaN</td>\n",
       "      <td>S</td>\n",
       "    </tr>\n",
       "    <tr>\n",
       "      <th>270</th>\n",
       "      <td>271</td>\n",
       "      <td>1</td>\n",
       "      <td>Cairns, Mr. Alexander</td>\n",
       "      <td>male</td>\n",
       "      <td>0</td>\n",
       "      <td>0</td>\n",
       "      <td>113798</td>\n",
       "      <td>31.0000</td>\n",
       "      <td>NaN</td>\n",
       "      <td>S</td>\n",
       "    </tr>\n",
       "    <tr>\n",
       "      <th>860</th>\n",
       "      <td>861</td>\n",
       "      <td>3</td>\n",
       "      <td>Hansen, Mr. Claus Peter</td>\n",
       "      <td>male</td>\n",
       "      <td>2</td>\n",
       "      <td>0</td>\n",
       "      <td>350026</td>\n",
       "      <td>14.1083</td>\n",
       "      <td>NaN</td>\n",
       "      <td>S</td>\n",
       "    </tr>\n",
       "    <tr>\n",
       "      <th>435</th>\n",
       "      <td>436</td>\n",
       "      <td>1</td>\n",
       "      <td>Carter, Miss. Lucile Polk</td>\n",
       "      <td>female</td>\n",
       "      <td>1</td>\n",
       "      <td>2</td>\n",
       "      <td>113760</td>\n",
       "      <td>120.0000</td>\n",
       "      <td>B96 B98</td>\n",
       "      <td>S</td>\n",
       "    </tr>\n",
       "    <tr>\n",
       "      <th>102</th>\n",
       "      <td>103</td>\n",
       "      <td>1</td>\n",
       "      <td>White, Mr. Richard Frasar</td>\n",
       "      <td>male</td>\n",
       "      <td>0</td>\n",
       "      <td>1</td>\n",
       "      <td>35281</td>\n",
       "      <td>77.2875</td>\n",
       "      <td>D26</td>\n",
       "      <td>S</td>\n",
       "    </tr>\n",
       "  </tbody>\n",
       "</table>\n",
       "<p>668 rows × 10 columns</p>\n",
       "</div>"
      ],
      "text/plain": [
       "     PassengerId  Pclass                              Name     Sex  SibSp  \\\n",
       "298          299       1             Saalfeld, Mr. Adolphe    male      0   \n",
       "884          885       3            Sutehall, Mr. Henry Jr    male      0   \n",
       "247          248       2   Hamalainen, Mrs. William (Anna)  female      0   \n",
       "478          479       3         Karlsson, Mr. Nils August    male      0   \n",
       "305          306       1    Allison, Master. Hudson Trevor    male      1   \n",
       "..           ...     ...                               ...     ...    ...   \n",
       "106          107       3  Salkjelsvik, Miss. Anna Kristine  female      0   \n",
       "270          271       1             Cairns, Mr. Alexander    male      0   \n",
       "860          861       3           Hansen, Mr. Claus Peter    male      2   \n",
       "435          436       1         Carter, Miss. Lucile Polk  female      1   \n",
       "102          103       1         White, Mr. Richard Frasar    male      0   \n",
       "\n",
       "     Parch           Ticket      Fare    Cabin Embarked  \n",
       "298      0            19988   30.5000     C106        S  \n",
       "884      0  SOTON/OQ 392076    7.0500      NaN        S  \n",
       "247      2           250649   14.5000      NaN        S  \n",
       "478      0           350060    7.5208      NaN        S  \n",
       "305      2           113781  151.5500  C22 C26        S  \n",
       "..     ...              ...       ...      ...      ...  \n",
       "106      0           343120    7.6500      NaN        S  \n",
       "270      0           113798   31.0000      NaN        S  \n",
       "860      0           350026   14.1083      NaN        S  \n",
       "435      2           113760  120.0000  B96 B98        S  \n",
       "102      1            35281   77.2875      D26        S  \n",
       "\n",
       "[668 rows x 10 columns]"
      ]
     },
     "execution_count": 49,
     "metadata": {},
     "output_type": "execute_result"
    }
   ],
   "source": [
    "X_train"
   ]
  },
  {
   "cell_type": "code",
   "execution_count": 48,
   "id": "e983f411",
   "metadata": {},
   "outputs": [
    {
     "ename": "KeyError",
     "evalue": "'Age'",
     "output_type": "error",
     "traceback": [
      "\u001b[1;31m---------------------------------------------------------------------------\u001b[0m",
      "\u001b[1;31mKeyError\u001b[0m                                  Traceback (most recent call last)",
      "File \u001b[1;32md:\\desmo\\Documents\\GitHub\\titanic-byoc-v2\\.venv\\lib\\site-packages\\pandas\\core\\indexes\\base.py:3361\u001b[0m, in \u001b[0;36mIndex.get_loc\u001b[1;34m(self, key, method, tolerance)\u001b[0m\n\u001b[0;32m   3360\u001b[0m \u001b[38;5;28;01mtry\u001b[39;00m:\n\u001b[1;32m-> 3361\u001b[0m     \u001b[38;5;28;01mreturn\u001b[39;00m \u001b[38;5;28;43mself\u001b[39;49m\u001b[38;5;241;43m.\u001b[39;49m\u001b[43m_engine\u001b[49m\u001b[38;5;241;43m.\u001b[39;49m\u001b[43mget_loc\u001b[49m\u001b[43m(\u001b[49m\u001b[43mcasted_key\u001b[49m\u001b[43m)\u001b[49m\n\u001b[0;32m   3362\u001b[0m \u001b[38;5;28;01mexcept\u001b[39;00m \u001b[38;5;167;01mKeyError\u001b[39;00m \u001b[38;5;28;01mas\u001b[39;00m err:\n",
      "File \u001b[1;32md:\\desmo\\Documents\\GitHub\\titanic-byoc-v2\\.venv\\lib\\site-packages\\pandas\\_libs\\index.pyx:76\u001b[0m, in \u001b[0;36mpandas._libs.index.IndexEngine.get_loc\u001b[1;34m()\u001b[0m\n",
      "File \u001b[1;32md:\\desmo\\Documents\\GitHub\\titanic-byoc-v2\\.venv\\lib\\site-packages\\pandas\\_libs\\index.pyx:108\u001b[0m, in \u001b[0;36mpandas._libs.index.IndexEngine.get_loc\u001b[1;34m()\u001b[0m\n",
      "File \u001b[1;32mpandas\\_libs\\hashtable_class_helper.pxi:5198\u001b[0m, in \u001b[0;36mpandas._libs.hashtable.PyObjectHashTable.get_item\u001b[1;34m()\u001b[0m\n",
      "File \u001b[1;32mpandas\\_libs\\hashtable_class_helper.pxi:5206\u001b[0m, in \u001b[0;36mpandas._libs.hashtable.PyObjectHashTable.get_item\u001b[1;34m()\u001b[0m\n",
      "\u001b[1;31mKeyError\u001b[0m: 'Age'",
      "\nThe above exception was the direct cause of the following exception:\n",
      "\u001b[1;31mKeyError\u001b[0m                                  Traceback (most recent call last)",
      "Cell \u001b[1;32mIn[48], line 2\u001b[0m\n\u001b[0;32m      1\u001b[0m \u001b[38;5;66;03m# Training the inference pipeline with the training data\u001b[39;00m\n\u001b[1;32m----> 2\u001b[0m \u001b[43mrfc_pipeline\u001b[49m\u001b[38;5;241;43m.\u001b[39;49m\u001b[43mfit\u001b[49m\u001b[43m(\u001b[49m\u001b[43mX_train\u001b[49m\u001b[43m,\u001b[49m\u001b[43m \u001b[49m\u001b[43my_train\u001b[49m\u001b[43m)\u001b[49m\n",
      "File \u001b[1;32md:\\desmo\\Documents\\GitHub\\titanic-byoc-v2\\.venv\\lib\\site-packages\\sklearn\\pipeline.py:390\u001b[0m, in \u001b[0;36mPipeline.fit\u001b[1;34m(self, X, y, **fit_params)\u001b[0m\n\u001b[0;32m    364\u001b[0m \u001b[38;5;250m\u001b[39m\u001b[38;5;124;03m\"\"\"Fit the model.\u001b[39;00m\n\u001b[0;32m    365\u001b[0m \n\u001b[0;32m    366\u001b[0m \u001b[38;5;124;03mFit all the transformers one after the other and transform the\u001b[39;00m\n\u001b[1;32m   (...)\u001b[0m\n\u001b[0;32m    387\u001b[0m \u001b[38;5;124;03m    Pipeline with fitted steps.\u001b[39;00m\n\u001b[0;32m    388\u001b[0m \u001b[38;5;124;03m\"\"\"\u001b[39;00m\n\u001b[0;32m    389\u001b[0m fit_params_steps \u001b[38;5;241m=\u001b[39m \u001b[38;5;28mself\u001b[39m\u001b[38;5;241m.\u001b[39m_check_fit_params(\u001b[38;5;241m*\u001b[39m\u001b[38;5;241m*\u001b[39mfit_params)\n\u001b[1;32m--> 390\u001b[0m Xt \u001b[38;5;241m=\u001b[39m \u001b[38;5;28;43mself\u001b[39;49m\u001b[38;5;241;43m.\u001b[39;49m\u001b[43m_fit\u001b[49m\u001b[43m(\u001b[49m\u001b[43mX\u001b[49m\u001b[43m,\u001b[49m\u001b[43m \u001b[49m\u001b[43my\u001b[49m\u001b[43m,\u001b[49m\u001b[43m \u001b[49m\u001b[38;5;241;43m*\u001b[39;49m\u001b[38;5;241;43m*\u001b[39;49m\u001b[43mfit_params_steps\u001b[49m\u001b[43m)\u001b[49m\n\u001b[0;32m    391\u001b[0m \u001b[38;5;28;01mwith\u001b[39;00m _print_elapsed_time(\u001b[38;5;124m\"\u001b[39m\u001b[38;5;124mPipeline\u001b[39m\u001b[38;5;124m\"\u001b[39m, \u001b[38;5;28mself\u001b[39m\u001b[38;5;241m.\u001b[39m_log_message(\u001b[38;5;28mlen\u001b[39m(\u001b[38;5;28mself\u001b[39m\u001b[38;5;241m.\u001b[39msteps) \u001b[38;5;241m-\u001b[39m \u001b[38;5;241m1\u001b[39m)):\n\u001b[0;32m    392\u001b[0m     \u001b[38;5;28;01mif\u001b[39;00m \u001b[38;5;28mself\u001b[39m\u001b[38;5;241m.\u001b[39m_final_estimator \u001b[38;5;241m!=\u001b[39m \u001b[38;5;124m\"\u001b[39m\u001b[38;5;124mpassthrough\u001b[39m\u001b[38;5;124m\"\u001b[39m:\n",
      "File \u001b[1;32md:\\desmo\\Documents\\GitHub\\titanic-byoc-v2\\.venv\\lib\\site-packages\\sklearn\\pipeline.py:348\u001b[0m, in \u001b[0;36mPipeline._fit\u001b[1;34m(self, X, y, **fit_params_steps)\u001b[0m\n\u001b[0;32m    346\u001b[0m     cloned_transformer \u001b[38;5;241m=\u001b[39m clone(transformer)\n\u001b[0;32m    347\u001b[0m \u001b[38;5;66;03m# Fit or load from cache the current transformer\u001b[39;00m\n\u001b[1;32m--> 348\u001b[0m X, fitted_transformer \u001b[38;5;241m=\u001b[39m \u001b[43mfit_transform_one_cached\u001b[49m\u001b[43m(\u001b[49m\n\u001b[0;32m    349\u001b[0m \u001b[43m    \u001b[49m\u001b[43mcloned_transformer\u001b[49m\u001b[43m,\u001b[49m\n\u001b[0;32m    350\u001b[0m \u001b[43m    \u001b[49m\u001b[43mX\u001b[49m\u001b[43m,\u001b[49m\n\u001b[0;32m    351\u001b[0m \u001b[43m    \u001b[49m\u001b[43my\u001b[49m\u001b[43m,\u001b[49m\n\u001b[0;32m    352\u001b[0m \u001b[43m    \u001b[49m\u001b[38;5;28;43;01mNone\u001b[39;49;00m\u001b[43m,\u001b[49m\n\u001b[0;32m    353\u001b[0m \u001b[43m    \u001b[49m\u001b[43mmessage_clsname\u001b[49m\u001b[38;5;241;43m=\u001b[39;49m\u001b[38;5;124;43m\"\u001b[39;49m\u001b[38;5;124;43mPipeline\u001b[39;49m\u001b[38;5;124;43m\"\u001b[39;49m\u001b[43m,\u001b[49m\n\u001b[0;32m    354\u001b[0m \u001b[43m    \u001b[49m\u001b[43mmessage\u001b[49m\u001b[38;5;241;43m=\u001b[39;49m\u001b[38;5;28;43mself\u001b[39;49m\u001b[38;5;241;43m.\u001b[39;49m\u001b[43m_log_message\u001b[49m\u001b[43m(\u001b[49m\u001b[43mstep_idx\u001b[49m\u001b[43m)\u001b[49m\u001b[43m,\u001b[49m\n\u001b[0;32m    355\u001b[0m \u001b[43m    \u001b[49m\u001b[38;5;241;43m*\u001b[39;49m\u001b[38;5;241;43m*\u001b[39;49m\u001b[43mfit_params_steps\u001b[49m\u001b[43m[\u001b[49m\u001b[43mname\u001b[49m\u001b[43m]\u001b[49m\u001b[43m,\u001b[49m\n\u001b[0;32m    356\u001b[0m \u001b[43m\u001b[49m\u001b[43m)\u001b[49m\n\u001b[0;32m    357\u001b[0m \u001b[38;5;66;03m# Replace the transformer of the step with the fitted\u001b[39;00m\n\u001b[0;32m    358\u001b[0m \u001b[38;5;66;03m# transformer. This is necessary when loading the transformer\u001b[39;00m\n\u001b[0;32m    359\u001b[0m \u001b[38;5;66;03m# from the cache.\u001b[39;00m\n\u001b[0;32m    360\u001b[0m \u001b[38;5;28mself\u001b[39m\u001b[38;5;241m.\u001b[39msteps[step_idx] \u001b[38;5;241m=\u001b[39m (name, fitted_transformer)\n",
      "File \u001b[1;32md:\\desmo\\Documents\\GitHub\\titanic-byoc-v2\\.venv\\lib\\site-packages\\joblib\\memory.py:312\u001b[0m, in \u001b[0;36mNotMemorizedFunc.__call__\u001b[1;34m(self, *args, **kwargs)\u001b[0m\n\u001b[0;32m    311\u001b[0m \u001b[38;5;28;01mdef\u001b[39;00m\u001b[38;5;250m \u001b[39m\u001b[38;5;21m__call__\u001b[39m(\u001b[38;5;28mself\u001b[39m, \u001b[38;5;241m*\u001b[39margs, \u001b[38;5;241m*\u001b[39m\u001b[38;5;241m*\u001b[39mkwargs):\n\u001b[1;32m--> 312\u001b[0m     \u001b[38;5;28;01mreturn\u001b[39;00m \u001b[38;5;28;43mself\u001b[39;49m\u001b[38;5;241;43m.\u001b[39;49m\u001b[43mfunc\u001b[49m\u001b[43m(\u001b[49m\u001b[38;5;241;43m*\u001b[39;49m\u001b[43margs\u001b[49m\u001b[43m,\u001b[49m\u001b[43m \u001b[49m\u001b[38;5;241;43m*\u001b[39;49m\u001b[38;5;241;43m*\u001b[39;49m\u001b[43mkwargs\u001b[49m\u001b[43m)\u001b[49m\n",
      "File \u001b[1;32md:\\desmo\\Documents\\GitHub\\titanic-byoc-v2\\.venv\\lib\\site-packages\\sklearn\\pipeline.py:891\u001b[0m, in \u001b[0;36m_fit_transform_one\u001b[1;34m(transformer, X, y, weight, message_clsname, message, **fit_params)\u001b[0m\n\u001b[0;32m    889\u001b[0m \u001b[38;5;28;01mwith\u001b[39;00m _print_elapsed_time(message_clsname, message):\n\u001b[0;32m    890\u001b[0m     \u001b[38;5;28;01mif\u001b[39;00m \u001b[38;5;28mhasattr\u001b[39m(transformer, \u001b[38;5;124m\"\u001b[39m\u001b[38;5;124mfit_transform\u001b[39m\u001b[38;5;124m\"\u001b[39m):\n\u001b[1;32m--> 891\u001b[0m         res \u001b[38;5;241m=\u001b[39m \u001b[43mtransformer\u001b[49m\u001b[38;5;241;43m.\u001b[39;49m\u001b[43mfit_transform\u001b[49m\u001b[43m(\u001b[49m\u001b[43mX\u001b[49m\u001b[43m,\u001b[49m\u001b[43m \u001b[49m\u001b[43my\u001b[49m\u001b[43m,\u001b[49m\u001b[43m \u001b[49m\u001b[38;5;241;43m*\u001b[39;49m\u001b[38;5;241;43m*\u001b[39;49m\u001b[43mfit_params\u001b[49m\u001b[43m)\u001b[49m\n\u001b[0;32m    892\u001b[0m     \u001b[38;5;28;01melse\u001b[39;00m:\n\u001b[0;32m    893\u001b[0m         res \u001b[38;5;241m=\u001b[39m transformer\u001b[38;5;241m.\u001b[39mfit(X, y, \u001b[38;5;241m*\u001b[39m\u001b[38;5;241m*\u001b[39mfit_params)\u001b[38;5;241m.\u001b[39mtransform(X)\n",
      "File \u001b[1;32md:\\desmo\\Documents\\GitHub\\titanic-byoc-v2\\.venv\\lib\\site-packages\\sklearn\\base.py:847\u001b[0m, in \u001b[0;36mTransformerMixin.fit_transform\u001b[1;34m(self, X, y, **fit_params)\u001b[0m\n\u001b[0;32m    844\u001b[0m     \u001b[38;5;28;01mreturn\u001b[39;00m \u001b[38;5;28mself\u001b[39m\u001b[38;5;241m.\u001b[39mfit(X, \u001b[38;5;241m*\u001b[39m\u001b[38;5;241m*\u001b[39mfit_params)\u001b[38;5;241m.\u001b[39mtransform(X)\n\u001b[0;32m    845\u001b[0m \u001b[38;5;28;01melse\u001b[39;00m:\n\u001b[0;32m    846\u001b[0m     \u001b[38;5;66;03m# fit method of arity 2 (supervised transformation)\u001b[39;00m\n\u001b[1;32m--> 847\u001b[0m     \u001b[38;5;28;01mreturn\u001b[39;00m \u001b[38;5;28;43mself\u001b[39;49m\u001b[38;5;241;43m.\u001b[39;49m\u001b[43mfit\u001b[49m\u001b[43m(\u001b[49m\u001b[43mX\u001b[49m\u001b[43m,\u001b[49m\u001b[43m \u001b[49m\u001b[43my\u001b[49m\u001b[43m,\u001b[49m\u001b[43m \u001b[49m\u001b[38;5;241;43m*\u001b[39;49m\u001b[38;5;241;43m*\u001b[39;49m\u001b[43mfit_params\u001b[49m\u001b[43m)\u001b[49m\u001b[38;5;241;43m.\u001b[39;49m\u001b[43mtransform\u001b[49m\u001b[43m(\u001b[49m\u001b[43mX\u001b[49m\u001b[43m)\u001b[49m\n",
      "File \u001b[1;32md:\\desmo\\Documents\\GitHub\\titanic-byoc-v2\\.venv\\lib\\site-packages\\sklearn\\preprocessing\\_function_transformer.py:182\u001b[0m, in \u001b[0;36mFunctionTransformer.transform\u001b[1;34m(self, X)\u001b[0m\n\u001b[0;32m    169\u001b[0m \u001b[38;5;250m\u001b[39m\u001b[38;5;124;03m\"\"\"Transform X using the forward function.\u001b[39;00m\n\u001b[0;32m    170\u001b[0m \n\u001b[0;32m    171\u001b[0m \u001b[38;5;124;03mParameters\u001b[39;00m\n\u001b[1;32m   (...)\u001b[0m\n\u001b[0;32m    179\u001b[0m \u001b[38;5;124;03m    Transformed input.\u001b[39;00m\n\u001b[0;32m    180\u001b[0m \u001b[38;5;124;03m\"\"\"\u001b[39;00m\n\u001b[0;32m    181\u001b[0m X \u001b[38;5;241m=\u001b[39m \u001b[38;5;28mself\u001b[39m\u001b[38;5;241m.\u001b[39m_check_input(X, reset\u001b[38;5;241m=\u001b[39m\u001b[38;5;28;01mFalse\u001b[39;00m)\n\u001b[1;32m--> 182\u001b[0m \u001b[38;5;28;01mreturn\u001b[39;00m \u001b[38;5;28;43mself\u001b[39;49m\u001b[38;5;241;43m.\u001b[39;49m\u001b[43m_transform\u001b[49m\u001b[43m(\u001b[49m\u001b[43mX\u001b[49m\u001b[43m,\u001b[49m\u001b[43m \u001b[49m\u001b[43mfunc\u001b[49m\u001b[38;5;241;43m=\u001b[39;49m\u001b[38;5;28;43mself\u001b[39;49m\u001b[38;5;241;43m.\u001b[39;49m\u001b[43mfunc\u001b[49m\u001b[43m,\u001b[49m\u001b[43m \u001b[49m\u001b[43mkw_args\u001b[49m\u001b[38;5;241;43m=\u001b[39;49m\u001b[38;5;28;43mself\u001b[39;49m\u001b[38;5;241;43m.\u001b[39;49m\u001b[43mkw_args\u001b[49m\u001b[43m)\u001b[49m\n",
      "File \u001b[1;32md:\\desmo\\Documents\\GitHub\\titanic-byoc-v2\\.venv\\lib\\site-packages\\sklearn\\preprocessing\\_function_transformer.py:205\u001b[0m, in \u001b[0;36mFunctionTransformer._transform\u001b[1;34m(self, X, func, kw_args)\u001b[0m\n\u001b[0;32m    202\u001b[0m \u001b[38;5;28;01mif\u001b[39;00m func \u001b[38;5;129;01mis\u001b[39;00m \u001b[38;5;28;01mNone\u001b[39;00m:\n\u001b[0;32m    203\u001b[0m     func \u001b[38;5;241m=\u001b[39m _identity\n\u001b[1;32m--> 205\u001b[0m \u001b[38;5;28;01mreturn\u001b[39;00m \u001b[43mfunc\u001b[49m\u001b[43m(\u001b[49m\u001b[43mX\u001b[49m\u001b[43m,\u001b[49m\u001b[43m \u001b[49m\u001b[38;5;241;43m*\u001b[39;49m\u001b[38;5;241;43m*\u001b[39;49m\u001b[43m(\u001b[49m\u001b[43mkw_args\u001b[49m\u001b[43m \u001b[49m\u001b[38;5;28;43;01mif\u001b[39;49;00m\u001b[43m \u001b[49m\u001b[43mkw_args\u001b[49m\u001b[43m \u001b[49m\u001b[38;5;28;43;01melse\u001b[39;49;00m\u001b[43m \u001b[49m\u001b[43m{\u001b[49m\u001b[43m}\u001b[49m\u001b[43m)\u001b[49m\u001b[43m)\u001b[49m\n",
      "Cell \u001b[1;32mIn[17], line 7\u001b[0m, in \u001b[0;36mcreate_age_bins\u001b[1;34m(df)\u001b[0m\n\u001b[0;32m      5\u001b[0m \u001b[38;5;66;03m# Filling any null values with the median age of 28.0\u001b[39;00m\n\u001b[0;32m      6\u001b[0m median_age \u001b[38;5;241m=\u001b[39m \u001b[38;5;241m28.0\u001b[39m\n\u001b[1;32m----> 7\u001b[0m \u001b[43mdf\u001b[49m\u001b[43m[\u001b[49m\u001b[38;5;124;43m'\u001b[39;49m\u001b[38;5;124;43mAge\u001b[39;49m\u001b[38;5;124;43m'\u001b[39;49m\u001b[43m]\u001b[49m\u001b[38;5;241m.\u001b[39mfillna(median_age, inplace \u001b[38;5;241m=\u001b[39m \u001b[38;5;28;01mTrue\u001b[39;00m)\n\u001b[0;32m      9\u001b[0m \u001b[38;5;66;03m# Establishing our bins values and names\u001b[39;00m\n\u001b[0;32m     10\u001b[0m bin_labels \u001b[38;5;241m=\u001b[39m [\u001b[38;5;124m'\u001b[39m\u001b[38;5;124mchild\u001b[39m\u001b[38;5;124m'\u001b[39m, \u001b[38;5;124m'\u001b[39m\u001b[38;5;124mteen\u001b[39m\u001b[38;5;124m'\u001b[39m, \u001b[38;5;124m'\u001b[39m\u001b[38;5;124myoung_adult\u001b[39m\u001b[38;5;124m'\u001b[39m, \u001b[38;5;124m'\u001b[39m\u001b[38;5;124madult\u001b[39m\u001b[38;5;124m'\u001b[39m, \u001b[38;5;124m'\u001b[39m\u001b[38;5;124melder\u001b[39m\u001b[38;5;124m'\u001b[39m]\n",
      "File \u001b[1;32md:\\desmo\\Documents\\GitHub\\titanic-byoc-v2\\.venv\\lib\\site-packages\\pandas\\core\\frame.py:3455\u001b[0m, in \u001b[0;36mDataFrame.__getitem__\u001b[1;34m(self, key)\u001b[0m\n\u001b[0;32m   3453\u001b[0m \u001b[38;5;28;01mif\u001b[39;00m \u001b[38;5;28mself\u001b[39m\u001b[38;5;241m.\u001b[39mcolumns\u001b[38;5;241m.\u001b[39mnlevels \u001b[38;5;241m>\u001b[39m \u001b[38;5;241m1\u001b[39m:\n\u001b[0;32m   3454\u001b[0m     \u001b[38;5;28;01mreturn\u001b[39;00m \u001b[38;5;28mself\u001b[39m\u001b[38;5;241m.\u001b[39m_getitem_multilevel(key)\n\u001b[1;32m-> 3455\u001b[0m indexer \u001b[38;5;241m=\u001b[39m \u001b[38;5;28;43mself\u001b[39;49m\u001b[38;5;241;43m.\u001b[39;49m\u001b[43mcolumns\u001b[49m\u001b[38;5;241;43m.\u001b[39;49m\u001b[43mget_loc\u001b[49m\u001b[43m(\u001b[49m\u001b[43mkey\u001b[49m\u001b[43m)\u001b[49m\n\u001b[0;32m   3456\u001b[0m \u001b[38;5;28;01mif\u001b[39;00m is_integer(indexer):\n\u001b[0;32m   3457\u001b[0m     indexer \u001b[38;5;241m=\u001b[39m [indexer]\n",
      "File \u001b[1;32md:\\desmo\\Documents\\GitHub\\titanic-byoc-v2\\.venv\\lib\\site-packages\\pandas\\core\\indexes\\base.py:3363\u001b[0m, in \u001b[0;36mIndex.get_loc\u001b[1;34m(self, key, method, tolerance)\u001b[0m\n\u001b[0;32m   3361\u001b[0m         \u001b[38;5;28;01mreturn\u001b[39;00m \u001b[38;5;28mself\u001b[39m\u001b[38;5;241m.\u001b[39m_engine\u001b[38;5;241m.\u001b[39mget_loc(casted_key)\n\u001b[0;32m   3362\u001b[0m     \u001b[38;5;28;01mexcept\u001b[39;00m \u001b[38;5;167;01mKeyError\u001b[39;00m \u001b[38;5;28;01mas\u001b[39;00m err:\n\u001b[1;32m-> 3363\u001b[0m         \u001b[38;5;28;01mraise\u001b[39;00m \u001b[38;5;167;01mKeyError\u001b[39;00m(key) \u001b[38;5;28;01mfrom\u001b[39;00m\u001b[38;5;250m \u001b[39m\u001b[38;5;21;01merr\u001b[39;00m\n\u001b[0;32m   3365\u001b[0m \u001b[38;5;28;01mif\u001b[39;00m is_scalar(key) \u001b[38;5;129;01mand\u001b[39;00m isna(key) \u001b[38;5;129;01mand\u001b[39;00m \u001b[38;5;129;01mnot\u001b[39;00m \u001b[38;5;28mself\u001b[39m\u001b[38;5;241m.\u001b[39mhasnans:\n\u001b[0;32m   3366\u001b[0m     \u001b[38;5;28;01mraise\u001b[39;00m \u001b[38;5;167;01mKeyError\u001b[39;00m(key)\n",
      "\u001b[1;31mKeyError\u001b[0m: 'Age'"
     ]
    }
   ],
   "source": [
    "# Training the inference pipeline with the training data\n",
    "rfc_pipeline.fit(X_train, y_train)"
   ]
  },
  {
   "cell_type": "code",
   "execution_count": 10,
   "id": "ec0c390b",
   "metadata": {},
   "outputs": [],
   "source": [
    "# Generating inferences on the validation dataset with the trained RFC pipeline\n",
    "val_preds = pd.DataFrame(rfc_pipeline.predict(X_val))"
   ]
  },
  {
   "cell_type": "code",
   "execution_count": 11,
   "id": "abe808dc",
   "metadata": {},
   "outputs": [],
   "source": [
    "# Getting the metrics with the validation dataset\n",
    "val_accuracy = accuracy_score(y_val, val_preds)\n",
    "val_roc_auc = roc_auc_score(y_val, val_preds)\n",
    "val_confusion_matrix = confusion_matrix(y_val, val_preds)"
   ]
  },
  {
   "cell_type": "code",
   "execution_count": 12,
   "id": "2872e0a4",
   "metadata": {},
   "outputs": [
    {
     "name": "stdout",
     "output_type": "stream",
     "text": [
      "Accuracy Score: 0.8340807174887892\n",
      "ROC-AUC Score: 0.8185477108837833\n",
      "Confusion Matrix: \n",
      "[[120  14]\n",
      " [ 23  66]]\n"
     ]
    }
   ],
   "source": [
    "# Printing out the validation metrics\n",
    "print(f'Accuracy Score: {val_accuracy}')\n",
    "print(f'ROC-AUC Score: {val_roc_auc}')\n",
    "print(f'Confusion Matrix: \\n{val_confusion_matrix}')"
   ]
  },
  {
   "cell_type": "code",
   "execution_count": 13,
   "id": "3e2d4296",
   "metadata": {},
   "outputs": [],
   "source": [
    "# Saving the pipeline to a serialized pickle file\n",
    "with open('../models/rfc_pipeline.pkl', 'wb') as f:\n",
    "    cloudpickle.dump(rfc_pipeline, f)"
   ]
  },
  {
   "cell_type": "markdown",
   "id": "4f3207d5",
   "metadata": {},
   "source": [
    "### Loading Our Trained Pipeline"
   ]
  },
  {
   "cell_type": "code",
   "execution_count": null,
   "id": "bee3d967",
   "metadata": {},
   "outputs": [],
   "source": [
    "# Loading in the trained RFC pipeline from the serialized pickle file\n",
    "with open('../models/rfc_pipeline.pkl', 'rb') as f:\n",
    "    loaded_rfc_pipeline = cloudpickle.load(f)"
   ]
  },
  {
   "cell_type": "code",
   "execution_count": null,
   "id": "4f5f5273",
   "metadata": {},
   "outputs": [],
   "source": [
    "# Getting inferences with the loaded RFC pipeline\n",
    "val_preds = pd.DataFrame(loaded_rfc_pipeline.predict(X_val))"
   ]
  },
  {
   "cell_type": "code",
   "execution_count": 46,
   "id": "9c197d6d",
   "metadata": {},
   "outputs": [
    {
     "name": "stdout",
     "output_type": "stream",
     "text": [
      "Accuracy Score: 0.8340807174887892\n",
      "ROC-AUC Score: 0.8166610766392757\n",
      "Confusion Matrix: \n",
      "[[121  13]\n",
      " [ 24  65]]\n"
     ]
    }
   ],
   "source": [
    "# Getting the metrics with the validation dataset\n",
    "val_accuracy = accuracy_score(y_val, val_preds)\n",
    "val_roc_auc = roc_auc_score(y_val, val_preds)\n",
    "val_confusion_matrix = confusion_matrix(y_val, val_preds)\n",
    "\n",
    "# Printing out the validation metrics\n",
    "print(f'Accuracy Score: {val_accuracy}')\n",
    "print(f'ROC-AUC Score: {val_roc_auc}')\n",
    "print(f'Confusion Matrix: \\n{val_confusion_matrix}')"
   ]
  },
  {
   "cell_type": "code",
   "execution_count": null,
   "id": "0f9ddeb9",
   "metadata": {},
   "outputs": [],
   "source": []
  }
 ],
 "metadata": {
  "kernelspec": {
   "display_name": ".venv",
   "language": "python",
   "name": "python3"
  },
  "language_info": {
   "codemirror_mode": {
    "name": "ipython",
    "version": 3
   },
   "file_extension": ".py",
   "mimetype": "text/x-python",
   "name": "python",
   "nbconvert_exporter": "python",
   "pygments_lexer": "ipython3",
   "version": "3.8.8"
  }
 },
 "nbformat": 4,
 "nbformat_minor": 5
}
