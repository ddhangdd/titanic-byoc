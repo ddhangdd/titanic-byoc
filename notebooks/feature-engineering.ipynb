{
 "cells": [
  {
   "cell_type": "markdown",
   "id": "4936d313",
   "metadata": {},
   "source": [
    "# Titanic - Feature Engineering!\n",
    "In this notebook, we will begin engineering features appropriate to build our machine learning model "
   ]
  },
  {
   "cell_type": "code",
   "execution_count": 2,
   "id": "44032922",
   "metadata": {},
   "outputs": [],
   "source": [
    "# Importing the necessary Python libraries\n",
    "import pandas as pd"
   ]
  },
  {
   "cell_type": "code",
   "execution_count": 3,
   "id": "802b5d77",
   "metadata": {},
   "outputs": [],
   "source": [
    "# Loading in the training dataset\n",
    "df_train = pd.read_csv('../data/train.csv')"
   ]
  },
  {
   "cell_type": "markdown",
   "id": "81eb03ce",
   "metadata": {},
   "source": [
    "## What We Did Last Time..."
   ]
  },
  {
   "cell_type": "code",
   "execution_count": 4,
   "id": "5aed8a1b",
   "metadata": {},
   "outputs": [],
   "source": [
    "# Dropping unnecessary columns\n",
    "df_train.drop(columns = ['PassengerId', 'Name', 'Ticket', 'Cabin'], inplace = True)"
   ]
  },
  {
   "cell_type": "code",
   "execution_count": 5,
   "id": "4334f0a4",
   "metadata": {},
   "outputs": [],
   "source": [
    "# Changing Sex (gender) to numerical values\n",
    "df_train['Sex'].mask(df_train['Sex'] == 'male', 0, inplace = True)\n",
    "df_train['Sex'].mask(df_train['Sex'] == 'female', 1, inplace = True)\n",
    "df_train['Sex'] = df_train['Sex'].astype(int)"
   ]
  },
  {
   "cell_type": "code",
   "execution_count": 6,
   "id": "01de9c3e",
   "metadata": {},
   "outputs": [],
   "source": [
    "# Separating the supporting features (X) from the predictor feature (y)\n",
    "X = df_train.drop(columns = ['Survived'])\n",
    "y = df_train[['Survived']]"
   ]
  },
  {
   "cell_type": "markdown",
   "id": "85ec33e1",
   "metadata": {},
   "source": [
    "## Starting our Feature Engineering!"
   ]
  },
  {
   "cell_type": "code",
   "execution_count": null,
   "id": "9334e75d",
   "metadata": {},
   "outputs": [],
   "source": []
  }
 ],
 "metadata": {
  "kernelspec": {
   "display_name": "Python 3",
   "language": "python",
   "name": "python3"
  },
  "language_info": {
   "codemirror_mode": {
    "name": "ipython",
    "version": 3
   },
   "file_extension": ".py",
   "mimetype": "text/x-python",
   "name": "python",
   "nbconvert_exporter": "python",
   "pygments_lexer": "ipython3",
   "version": "3.8.8"
  }
 },
 "nbformat": 4,
 "nbformat_minor": 5
}
