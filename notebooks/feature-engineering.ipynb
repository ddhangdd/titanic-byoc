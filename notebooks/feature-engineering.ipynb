{
 "cells": [
  {
   "cell_type": "markdown",
   "id": "4936d313",
   "metadata": {},
   "source": [
    "# Titanic - Feature Engineering!\n",
    "In this notebook, we will begin engineering features appropriate to build our machine learning model "
   ]
  },
  {
   "cell_type": "code",
   "execution_count": 53,
   "id": "44032922",
   "metadata": {},
   "outputs": [],
   "source": [
    "# Importing the necessary Python libraries\n",
    "import pandas as pd\n",
    "from category_encoders import one_hot\n",
    "from sklearn.impute import SimpleImputer"
   ]
  },
  {
   "cell_type": "code",
   "execution_count": 2,
   "id": "802b5d77",
   "metadata": {},
   "outputs": [],
   "source": [
    "# Loading in the training dataset\n",
    "df_train = pd.read_csv('../data/train.csv')"
   ]
  },
  {
   "cell_type": "markdown",
   "id": "81eb03ce",
   "metadata": {},
   "source": [
    "## What We Did Last Time..."
   ]
  },
  {
   "cell_type": "code",
   "execution_count": 3,
   "id": "5aed8a1b",
   "metadata": {},
   "outputs": [],
   "source": [
    "# Dropping unnecessary columns\n",
    "df_train.drop(columns = ['PassengerId', 'Name', 'Ticket', 'Cabin'], inplace = True)"
   ]
  },
  {
   "cell_type": "code",
   "execution_count": 4,
   "id": "4334f0a4",
   "metadata": {},
   "outputs": [],
   "source": [
    "# Changing Sex (gender) to numerical values\n",
    "df_train['Sex'].mask(df_train['Sex'] == 'male', 0, inplace = True)\n",
    "df_train['Sex'].mask(df_train['Sex'] == 'female', 1, inplace = True)\n",
    "df_train['Sex'] = df_train['Sex'].astype(int)"
   ]
  },
  {
   "cell_type": "code",
   "execution_count": 5,
   "id": "01de9c3e",
   "metadata": {},
   "outputs": [],
   "source": [
    "# Separating the supporting features (X) from the predictor feature (y)\n",
    "X = df_train.drop(columns = ['Survived'])\n",
    "y = df_train[['Survived']]"
   ]
  },
  {
   "cell_type": "markdown",
   "id": "85ec33e1",
   "metadata": {},
   "source": [
    "## Starting our Feature Engineering!"
   ]
  },
  {
   "cell_type": "code",
   "execution_count": 6,
   "id": "9334e75d",
   "metadata": {},
   "outputs": [
    {
     "data": {
      "text/html": [
       "<div>\n",
       "<style scoped>\n",
       "    .dataframe tbody tr th:only-of-type {\n",
       "        vertical-align: middle;\n",
       "    }\n",
       "\n",
       "    .dataframe tbody tr th {\n",
       "        vertical-align: top;\n",
       "    }\n",
       "\n",
       "    .dataframe thead th {\n",
       "        text-align: right;\n",
       "    }\n",
       "</style>\n",
       "<table border=\"1\" class=\"dataframe\">\n",
       "  <thead>\n",
       "    <tr style=\"text-align: right;\">\n",
       "      <th></th>\n",
       "      <th>Pclass</th>\n",
       "      <th>Sex</th>\n",
       "      <th>Age</th>\n",
       "      <th>SibSp</th>\n",
       "      <th>Parch</th>\n",
       "      <th>Fare</th>\n",
       "      <th>Embarked</th>\n",
       "    </tr>\n",
       "  </thead>\n",
       "  <tbody>\n",
       "    <tr>\n",
       "      <th>0</th>\n",
       "      <td>3</td>\n",
       "      <td>0</td>\n",
       "      <td>22.0</td>\n",
       "      <td>1</td>\n",
       "      <td>0</td>\n",
       "      <td>7.2500</td>\n",
       "      <td>S</td>\n",
       "    </tr>\n",
       "    <tr>\n",
       "      <th>1</th>\n",
       "      <td>1</td>\n",
       "      <td>1</td>\n",
       "      <td>38.0</td>\n",
       "      <td>1</td>\n",
       "      <td>0</td>\n",
       "      <td>71.2833</td>\n",
       "      <td>C</td>\n",
       "    </tr>\n",
       "    <tr>\n",
       "      <th>2</th>\n",
       "      <td>3</td>\n",
       "      <td>1</td>\n",
       "      <td>26.0</td>\n",
       "      <td>0</td>\n",
       "      <td>0</td>\n",
       "      <td>7.9250</td>\n",
       "      <td>S</td>\n",
       "    </tr>\n",
       "    <tr>\n",
       "      <th>3</th>\n",
       "      <td>1</td>\n",
       "      <td>1</td>\n",
       "      <td>35.0</td>\n",
       "      <td>1</td>\n",
       "      <td>0</td>\n",
       "      <td>53.1000</td>\n",
       "      <td>S</td>\n",
       "    </tr>\n",
       "    <tr>\n",
       "      <th>4</th>\n",
       "      <td>3</td>\n",
       "      <td>0</td>\n",
       "      <td>35.0</td>\n",
       "      <td>0</td>\n",
       "      <td>0</td>\n",
       "      <td>8.0500</td>\n",
       "      <td>S</td>\n",
       "    </tr>\n",
       "  </tbody>\n",
       "</table>\n",
       "</div>"
      ],
      "text/plain": [
       "   Pclass  Sex   Age  SibSp  Parch     Fare Embarked\n",
       "0       3    0  22.0      1      0   7.2500        S\n",
       "1       1    1  38.0      1      0  71.2833        C\n",
       "2       3    1  26.0      0      0   7.9250        S\n",
       "3       1    1  35.0      1      0  53.1000        S\n",
       "4       3    0  35.0      0      0   8.0500        S"
      ]
     },
     "execution_count": 6,
     "metadata": {},
     "output_type": "execute_result"
    }
   ],
   "source": [
    "X.head()"
   ]
  },
  {
   "cell_type": "code",
   "execution_count": 7,
   "id": "2f4ce918",
   "metadata": {},
   "outputs": [
    {
     "name": "stdout",
     "output_type": "stream",
     "text": [
      "<class 'pandas.core.frame.DataFrame'>\n",
      "RangeIndex: 891 entries, 0 to 890\n",
      "Data columns (total 7 columns):\n",
      " #   Column    Non-Null Count  Dtype  \n",
      "---  ------    --------------  -----  \n",
      " 0   Pclass    891 non-null    int64  \n",
      " 1   Sex       891 non-null    int64  \n",
      " 2   Age       714 non-null    float64\n",
      " 3   SibSp     891 non-null    int64  \n",
      " 4   Parch     891 non-null    int64  \n",
      " 5   Fare      891 non-null    float64\n",
      " 6   Embarked  889 non-null    object \n",
      "dtypes: float64(2), int64(4), object(1)\n",
      "memory usage: 48.9+ KB\n"
     ]
    }
   ],
   "source": [
    "X.info()"
   ]
  },
  {
   "cell_type": "markdown",
   "id": "431b5c9e",
   "metadata": {},
   "source": [
    "## Engineering the Embarked Column"
   ]
  },
  {
   "cell_type": "code",
   "execution_count": 8,
   "id": "6b5f742b",
   "metadata": {},
   "outputs": [
    {
     "data": {
      "text/plain": [
       "S    644\n",
       "C    168\n",
       "Q     77\n",
       "Name: Embarked, dtype: int64"
      ]
     },
     "execution_count": 8,
     "metadata": {},
     "output_type": "execute_result"
    }
   ],
   "source": [
    "# Checking the value counts on the Embarked column\n",
    "X['Embarked'].value_counts()"
   ]
  },
  {
   "cell_type": "code",
   "execution_count": 40,
   "id": "798d7e47",
   "metadata": {},
   "outputs": [],
   "source": [
    "# Instantiating the One Hot Encoder object\n",
    "embarked_ohe_encoder = one_hot.OneHotEncoder(use_cat_names = True, handle_missing = 'S')"
   ]
  },
  {
   "cell_type": "code",
   "execution_count": 41,
   "id": "e9a6a2d1",
   "metadata": {},
   "outputs": [
    {
     "data": {
      "text/html": [
       "<div>\n",
       "<style scoped>\n",
       "    .dataframe tbody tr th:only-of-type {\n",
       "        vertical-align: middle;\n",
       "    }\n",
       "\n",
       "    .dataframe tbody tr th {\n",
       "        vertical-align: top;\n",
       "    }\n",
       "\n",
       "    .dataframe thead th {\n",
       "        text-align: right;\n",
       "    }\n",
       "</style>\n",
       "<table border=\"1\" class=\"dataframe\">\n",
       "  <thead>\n",
       "    <tr style=\"text-align: right;\">\n",
       "      <th></th>\n",
       "      <th>Pclass</th>\n",
       "      <th>Sex</th>\n",
       "      <th>Age</th>\n",
       "      <th>SibSp</th>\n",
       "      <th>Parch</th>\n",
       "      <th>Fare</th>\n",
       "      <th>Embarked</th>\n",
       "    </tr>\n",
       "  </thead>\n",
       "  <tbody>\n",
       "    <tr>\n",
       "      <th>61</th>\n",
       "      <td>1</td>\n",
       "      <td>1</td>\n",
       "      <td>38.0</td>\n",
       "      <td>0</td>\n",
       "      <td>0</td>\n",
       "      <td>80.0</td>\n",
       "      <td>NaN</td>\n",
       "    </tr>\n",
       "    <tr>\n",
       "      <th>829</th>\n",
       "      <td>1</td>\n",
       "      <td>1</td>\n",
       "      <td>62.0</td>\n",
       "      <td>0</td>\n",
       "      <td>0</td>\n",
       "      <td>80.0</td>\n",
       "      <td>NaN</td>\n",
       "    </tr>\n",
       "  </tbody>\n",
       "</table>\n",
       "</div>"
      ],
      "text/plain": [
       "     Pclass  Sex   Age  SibSp  Parch  Fare Embarked\n",
       "61        1    1  38.0      0      0  80.0      NaN\n",
       "829       1    1  62.0      0      0  80.0      NaN"
      ]
     },
     "execution_count": 41,
     "metadata": {},
     "output_type": "execute_result"
    }
   ],
   "source": [
    "# Showing which \"Embarked\" records from the raw dataset are null\n",
    "X[X['Embarked'].isnull()]"
   ]
  },
  {
   "cell_type": "code",
   "execution_count": 42,
   "id": "24f993ba",
   "metadata": {},
   "outputs": [
    {
     "name": "stderr",
     "output_type": "stream",
     "text": [
      "/Users/dkhundley/opt/anaconda3/lib/python3.8/site-packages/category_encoders/utils.py:21: FutureWarning: is_categorical is deprecated and will be removed in a future version.  Use is_categorical_dtype instead\n",
      "  elif pd.api.types.is_categorical(cols):\n"
     ]
    }
   ],
   "source": [
    "# Performing one hot encoding on the \"Embarked\" column\n",
    "embarked_dummies = embarked_ohe_encoder.fit_transform(X['Embarked'])"
   ]
  },
  {
   "cell_type": "code",
   "execution_count": 43,
   "id": "1724b57b",
   "metadata": {},
   "outputs": [
    {
     "data": {
      "text/html": [
       "<div>\n",
       "<style scoped>\n",
       "    .dataframe tbody tr th:only-of-type {\n",
       "        vertical-align: middle;\n",
       "    }\n",
       "\n",
       "    .dataframe tbody tr th {\n",
       "        vertical-align: top;\n",
       "    }\n",
       "\n",
       "    .dataframe thead th {\n",
       "        text-align: right;\n",
       "    }\n",
       "</style>\n",
       "<table border=\"1\" class=\"dataframe\">\n",
       "  <thead>\n",
       "    <tr style=\"text-align: right;\">\n",
       "      <th></th>\n",
       "      <th>Embarked_S</th>\n",
       "      <th>Embarked_C</th>\n",
       "      <th>Embarked_Q</th>\n",
       "      <th>Embarked_nan</th>\n",
       "    </tr>\n",
       "  </thead>\n",
       "  <tbody>\n",
       "    <tr>\n",
       "      <th>886</th>\n",
       "      <td>1</td>\n",
       "      <td>0</td>\n",
       "      <td>0</td>\n",
       "      <td>0</td>\n",
       "    </tr>\n",
       "    <tr>\n",
       "      <th>887</th>\n",
       "      <td>1</td>\n",
       "      <td>0</td>\n",
       "      <td>0</td>\n",
       "      <td>0</td>\n",
       "    </tr>\n",
       "    <tr>\n",
       "      <th>888</th>\n",
       "      <td>1</td>\n",
       "      <td>0</td>\n",
       "      <td>0</td>\n",
       "      <td>0</td>\n",
       "    </tr>\n",
       "    <tr>\n",
       "      <th>889</th>\n",
       "      <td>0</td>\n",
       "      <td>1</td>\n",
       "      <td>0</td>\n",
       "      <td>0</td>\n",
       "    </tr>\n",
       "    <tr>\n",
       "      <th>890</th>\n",
       "      <td>0</td>\n",
       "      <td>0</td>\n",
       "      <td>1</td>\n",
       "      <td>0</td>\n",
       "    </tr>\n",
       "  </tbody>\n",
       "</table>\n",
       "</div>"
      ],
      "text/plain": [
       "     Embarked_S  Embarked_C  Embarked_Q  Embarked_nan\n",
       "886           1           0           0             0\n",
       "887           1           0           0             0\n",
       "888           1           0           0             0\n",
       "889           0           1           0             0\n",
       "890           0           0           1             0"
      ]
     },
     "execution_count": 43,
     "metadata": {},
     "output_type": "execute_result"
    }
   ],
   "source": [
    "# Viewing the \"Embarked\" dummies\n",
    "embarked_dummies.tail()"
   ]
  },
  {
   "cell_type": "code",
   "execution_count": 47,
   "id": "46de147f",
   "metadata": {},
   "outputs": [],
   "source": [
    "# Joining \"Embarked\" dummies back into X dataset\n",
    "X = pd.concat([X, embarked_dummies], axis = 1)"
   ]
  },
  {
   "cell_type": "code",
   "execution_count": 51,
   "id": "067a12ad",
   "metadata": {},
   "outputs": [],
   "source": [
    "# Getting rid of original \"Embarked\" column\n",
    "X.drop(columns = ['Embarked'], inplace = True)"
   ]
  },
  {
   "cell_type": "markdown",
   "id": "40b716b6",
   "metadata": {},
   "source": [
    "## Engineering the Age column"
   ]
  },
  {
   "cell_type": "code",
   "execution_count": 60,
   "id": "8af5d386",
   "metadata": {},
   "outputs": [],
   "source": [
    "# Instantiating the \"Age\" imputer object\n",
    "age_imputer = SimpleImputer(strategy = 'median')"
   ]
  },
  {
   "cell_type": "code",
   "execution_count": 63,
   "id": "31f1f7db",
   "metadata": {},
   "outputs": [],
   "source": [
    "# Fit / Transform the \"Age\" column with the imputer object\n",
    "imputed_age = age_imputer.fit_transform(X['Age'].values.reshape(-1,1))"
   ]
  },
  {
   "cell_type": "code",
   "execution_count": 71,
   "id": "15e81bfd",
   "metadata": {},
   "outputs": [],
   "source": [
    "# Recreating the \"Age\" imputed feature as a Pandas DataFrame\n",
    "df_imputed_age = pd.DataFrame(data = imputed_age, columns = ['age_imputed'])"
   ]
  },
  {
   "cell_type": "code",
   "execution_count": 72,
   "id": "d6270627",
   "metadata": {},
   "outputs": [],
   "source": [
    "# Joining imputed \"Age\" back into full X dataset\n",
    "X = pd.concat([X, df_imputed_age], axis = 1)"
   ]
  },
  {
   "cell_type": "code",
   "execution_count": 74,
   "id": "7447d94f",
   "metadata": {},
   "outputs": [],
   "source": [
    "# Getting rid of the origin \"Age\" column\n",
    "X.drop(columns = ['Age'], inplace = True)"
   ]
  },
  {
   "cell_type": "code",
   "execution_count": 76,
   "id": "8d290390",
   "metadata": {},
   "outputs": [],
   "source": [
    "# Establishing our bins values and names\n",
    "bin_labels = ['child', 'teen', 'young_adult', 'adult', 'elder']\n",
    "bin_values = [-1, 12, 19, 30, 60, 100]"
   ]
  },
  {
   "cell_type": "code",
   "execution_count": 93,
   "id": "74c1459a",
   "metadata": {},
   "outputs": [],
   "source": [
    "# Applying \"Age\" binning with Pandas cut\n",
    "age_bins = pd.cut(X['age_imputed'], bins = bin_values, labels = bin_labels)\n",
    "df_age_bins = pd.DataFrame(age_bins)"
   ]
  },
  {
   "cell_type": "code",
   "execution_count": 94,
   "id": "7bd7dca4",
   "metadata": {},
   "outputs": [
    {
     "data": {
      "text/plain": [
       "young_adult    422\n",
       "adult          283\n",
       "teen            95\n",
       "child           69\n",
       "elder           22\n",
       "Name: age_imputed, dtype: int64"
      ]
     },
     "execution_count": 94,
     "metadata": {},
     "output_type": "execute_result"
    }
   ],
   "source": [
    "# Viewing the distribution of age bins\n",
    "df_age_bins['age_imputed'].value_counts()"
   ]
  },
  {
   "cell_type": "code",
   "execution_count": 98,
   "id": "81efbd9c",
   "metadata": {},
   "outputs": [],
   "source": [
    "# Instantiating the \"Age\" One Hot Encoder (OHE) object\n",
    "age_ohe_encoder = one_hot.OneHotEncoder(use_cat_names = True, handle_unknown = 'other')"
   ]
  },
  {
   "cell_type": "code",
   "execution_count": 99,
   "id": "9686faee",
   "metadata": {},
   "outputs": [
    {
     "name": "stderr",
     "output_type": "stream",
     "text": [
      "/Users/dkhundley/opt/anaconda3/lib/python3.8/site-packages/category_encoders/utils.py:21: FutureWarning: is_categorical is deprecated and will be removed in a future version.  Use is_categorical_dtype instead\n",
      "  elif pd.api.types.is_categorical(cols):\n"
     ]
    }
   ],
   "source": [
    "# Fitting the age bins DataFrame to the OHE object\n",
    "age_dummies = age_ohe_encoder.fit_transform(df_age_bins)"
   ]
  },
  {
   "cell_type": "code",
   "execution_count": 101,
   "id": "f92c481a",
   "metadata": {},
   "outputs": [],
   "source": [
    "# Joining age_dummies back into full X dataset\n",
    "X = pd.concat([X, age_dummies], axis = 1)"
   ]
  },
  {
   "cell_type": "code",
   "execution_count": 103,
   "id": "6088d2c0",
   "metadata": {},
   "outputs": [],
   "source": [
    "# Getting rid of the original \"Age\" (or actually, \"age_imputed\") column\n",
    "X.drop(columns = ['age_imputed'], inplace = True)"
   ]
  },
  {
   "cell_type": "code",
   "execution_count": 105,
   "id": "838d3e72",
   "metadata": {},
   "outputs": [
    {
     "data": {
      "text/html": [
       "<div>\n",
       "<style scoped>\n",
       "    .dataframe tbody tr th:only-of-type {\n",
       "        vertical-align: middle;\n",
       "    }\n",
       "\n",
       "    .dataframe tbody tr th {\n",
       "        vertical-align: top;\n",
       "    }\n",
       "\n",
       "    .dataframe thead th {\n",
       "        text-align: right;\n",
       "    }\n",
       "</style>\n",
       "<table border=\"1\" class=\"dataframe\">\n",
       "  <thead>\n",
       "    <tr style=\"text-align: right;\">\n",
       "      <th></th>\n",
       "      <th>Pclass</th>\n",
       "      <th>Sex</th>\n",
       "      <th>SibSp</th>\n",
       "      <th>Parch</th>\n",
       "      <th>Fare</th>\n",
       "      <th>Embarked_S</th>\n",
       "      <th>Embarked_C</th>\n",
       "      <th>Embarked_Q</th>\n",
       "      <th>Embarked_nan</th>\n",
       "      <th>age_imputed_child</th>\n",
       "      <th>age_imputed_teen</th>\n",
       "      <th>age_imputed_young_adult</th>\n",
       "      <th>age_imputed_adult</th>\n",
       "      <th>age_imputed_elder</th>\n",
       "    </tr>\n",
       "  </thead>\n",
       "  <tbody>\n",
       "    <tr>\n",
       "      <th>0</th>\n",
       "      <td>3</td>\n",
       "      <td>0</td>\n",
       "      <td>1</td>\n",
       "      <td>0</td>\n",
       "      <td>7.2500</td>\n",
       "      <td>1</td>\n",
       "      <td>0</td>\n",
       "      <td>0</td>\n",
       "      <td>0</td>\n",
       "      <td>0</td>\n",
       "      <td>0</td>\n",
       "      <td>1</td>\n",
       "      <td>0</td>\n",
       "      <td>0</td>\n",
       "    </tr>\n",
       "    <tr>\n",
       "      <th>1</th>\n",
       "      <td>1</td>\n",
       "      <td>1</td>\n",
       "      <td>1</td>\n",
       "      <td>0</td>\n",
       "      <td>71.2833</td>\n",
       "      <td>0</td>\n",
       "      <td>1</td>\n",
       "      <td>0</td>\n",
       "      <td>0</td>\n",
       "      <td>0</td>\n",
       "      <td>0</td>\n",
       "      <td>0</td>\n",
       "      <td>1</td>\n",
       "      <td>0</td>\n",
       "    </tr>\n",
       "    <tr>\n",
       "      <th>2</th>\n",
       "      <td>3</td>\n",
       "      <td>1</td>\n",
       "      <td>0</td>\n",
       "      <td>0</td>\n",
       "      <td>7.9250</td>\n",
       "      <td>1</td>\n",
       "      <td>0</td>\n",
       "      <td>0</td>\n",
       "      <td>0</td>\n",
       "      <td>0</td>\n",
       "      <td>0</td>\n",
       "      <td>1</td>\n",
       "      <td>0</td>\n",
       "      <td>0</td>\n",
       "    </tr>\n",
       "    <tr>\n",
       "      <th>3</th>\n",
       "      <td>1</td>\n",
       "      <td>1</td>\n",
       "      <td>1</td>\n",
       "      <td>0</td>\n",
       "      <td>53.1000</td>\n",
       "      <td>1</td>\n",
       "      <td>0</td>\n",
       "      <td>0</td>\n",
       "      <td>0</td>\n",
       "      <td>0</td>\n",
       "      <td>0</td>\n",
       "      <td>0</td>\n",
       "      <td>1</td>\n",
       "      <td>0</td>\n",
       "    </tr>\n",
       "    <tr>\n",
       "      <th>4</th>\n",
       "      <td>3</td>\n",
       "      <td>0</td>\n",
       "      <td>0</td>\n",
       "      <td>0</td>\n",
       "      <td>8.0500</td>\n",
       "      <td>1</td>\n",
       "      <td>0</td>\n",
       "      <td>0</td>\n",
       "      <td>0</td>\n",
       "      <td>0</td>\n",
       "      <td>0</td>\n",
       "      <td>0</td>\n",
       "      <td>1</td>\n",
       "      <td>0</td>\n",
       "    </tr>\n",
       "  </tbody>\n",
       "</table>\n",
       "</div>"
      ],
      "text/plain": [
       "   Pclass  Sex  SibSp  Parch     Fare  Embarked_S  Embarked_C  Embarked_Q  \\\n",
       "0       3    0      1      0   7.2500           1           0           0   \n",
       "1       1    1      1      0  71.2833           0           1           0   \n",
       "2       3    1      0      0   7.9250           1           0           0   \n",
       "3       1    1      1      0  53.1000           1           0           0   \n",
       "4       3    0      0      0   8.0500           1           0           0   \n",
       "\n",
       "   Embarked_nan  age_imputed_child  age_imputed_teen  age_imputed_young_adult  \\\n",
       "0             0                  0                 0                        1   \n",
       "1             0                  0                 0                        0   \n",
       "2             0                  0                 0                        1   \n",
       "3             0                  0                 0                        0   \n",
       "4             0                  0                 0                        0   \n",
       "\n",
       "   age_imputed_adult  age_imputed_elder  \n",
       "0                  0                  0  \n",
       "1                  1                  0  \n",
       "2                  0                  0  \n",
       "3                  1                  0  \n",
       "4                  1                  0  "
      ]
     },
     "execution_count": 105,
     "metadata": {},
     "output_type": "execute_result"
    }
   ],
   "source": [
    "# Viewing the final engineered features\n",
    "X.head()"
   ]
  },
  {
   "cell_type": "code",
   "execution_count": 106,
   "id": "7b548f07",
   "metadata": {},
   "outputs": [
    {
     "name": "stdout",
     "output_type": "stream",
     "text": [
      "<class 'pandas.core.frame.DataFrame'>\n",
      "RangeIndex: 891 entries, 0 to 890\n",
      "Data columns (total 14 columns):\n",
      " #   Column                   Non-Null Count  Dtype  \n",
      "---  ------                   --------------  -----  \n",
      " 0   Pclass                   891 non-null    int64  \n",
      " 1   Sex                      891 non-null    int64  \n",
      " 2   SibSp                    891 non-null    int64  \n",
      " 3   Parch                    891 non-null    int64  \n",
      " 4   Fare                     891 non-null    float64\n",
      " 5   Embarked_S               891 non-null    int64  \n",
      " 6   Embarked_C               891 non-null    int64  \n",
      " 7   Embarked_Q               891 non-null    int64  \n",
      " 8   Embarked_nan             891 non-null    int64  \n",
      " 9   age_imputed_child        891 non-null    int64  \n",
      " 10  age_imputed_teen         891 non-null    int64  \n",
      " 11  age_imputed_young_adult  891 non-null    int64  \n",
      " 12  age_imputed_adult        891 non-null    int64  \n",
      " 13  age_imputed_elder        891 non-null    int64  \n",
      "dtypes: float64(1), int64(13)\n",
      "memory usage: 97.6 KB\n"
     ]
    }
   ],
   "source": [
    "# Viewing information about the X DataFrame\n",
    "X.info()"
   ]
  },
  {
   "cell_type": "code",
   "execution_count": 107,
   "id": "be1f8245",
   "metadata": {},
   "outputs": [],
   "source": [
    "# Saving cleaned dataset to disk\n",
    "X.to_csv('../data/cleaned_train.csv', index = False)\n",
    "y.to_csv('../data/y.csv', index = False)"
   ]
  },
  {
   "cell_type": "code",
   "execution_count": null,
   "id": "796a7c27",
   "metadata": {},
   "outputs": [],
   "source": []
  }
 ],
 "metadata": {
  "kernelspec": {
   "display_name": "Python 3",
   "language": "python",
   "name": "python3"
  },
  "language_info": {
   "codemirror_mode": {
    "name": "ipython",
    "version": 3
   },
   "file_extension": ".py",
   "mimetype": "text/x-python",
   "name": "python",
   "nbconvert_exporter": "python",
   "pygments_lexer": "ipython3",
   "version": "3.8.8"
  }
 },
 "nbformat": 4,
 "nbformat_minor": 5
}
